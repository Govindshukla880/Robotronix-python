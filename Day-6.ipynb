{
 "cells": [
  {
   "cell_type": "markdown",
   "id": "6ec4f678-4e40-4db4-8bea-9e62bbec8f81",
   "metadata": {},
   "source": [
    "\n",
    "                                             #================= 30/09/2024 ===================#\n",
    "                            "
   ]
  },
  {
   "cell_type": "markdown",
   "id": "183b91f5-37f4-43bd-b28a-9667adce870f",
   "metadata": {},
   "source": [
    "## SLICING ##"
   ]
  },
  {
   "cell_type": "code",
   "execution_count": 1,
   "id": "655871b9-8256-4664-a7cb-1f7484a8849b",
   "metadata": {},
   "outputs": [
    {
     "data": {
      "text/plain": [
       "'s'"
      ]
     },
     "execution_count": 1,
     "metadata": {},
     "output_type": "execute_result"
    }
   ],
   "source": [
    "st = 'This is a test string is my notebook my pen is good'\n",
    "st[3]"
   ]
  },
  {
   "cell_type": "code",
   "execution_count": 33,
   "id": "9b621b01-3044-4572-9af9-b8256729d010",
   "metadata": {},
   "outputs": [
    {
     "data": {
      "text/plain": [
       "'g'"
      ]
     },
     "execution_count": 33,
     "metadata": {},
     "output_type": "execute_result"
    }
   ],
   "source": [
    "st[-4]"
   ]
  },
  {
   "cell_type": "code",
   "execution_count": 37,
   "id": "10cb7b44-8ed4-44b0-a5f3-a382b1457956",
   "metadata": {},
   "outputs": [
    {
     "name": "stdout",
     "output_type": "stream",
     "text": [
      "This is a test string is my notebook my pen is good\n",
      "This is a test string\n"
     ]
    }
   ],
   "source": [
    "print(st)\n",
    "print(st[0:21])  # start point : end point-1 : step size"
   ]
  },
  {
   "cell_type": "code",
   "execution_count": 7,
   "id": "48829989-4ccb-4a9c-83af-8c59544efbc2",
   "metadata": {},
   "outputs": [
    {
     "name": "stdout",
     "output_type": "stream",
     "text": [
      "This is a test string is my notebook my pen is good\n",
      "This is a test string\n"
     ]
    }
   ],
   "source": [
    "print(st)\n",
    "print(st[:21])  # no start point then start with zero"
   ]
  },
  {
   "cell_type": "code",
   "execution_count": 9,
   "id": "fe5f61dc-6b20-4329-99d3-94e5d6473cba",
   "metadata": {},
   "outputs": [
    {
     "name": "stdout",
     "output_type": "stream",
     "text": [
      "This is a test string is my notebook my pen is good\n",
      "s is a test string is my notebook my pen is good\n"
     ]
    }
   ],
   "source": [
    "print(st)\n",
    "print(st[3:])  # no end point then end with last index"
   ]
  },
  {
   "cell_type": "code",
   "execution_count": 11,
   "id": "9d05b6fb-e29a-48b4-b4dc-08250b93fcd1",
   "metadata": {},
   "outputs": [
    {
     "name": "stdout",
     "output_type": "stream",
     "text": [
      "This is a test string is my notebook my pen is good\n",
      "Ti sats tigi yn\n"
     ]
    }
   ],
   "source": [
    "print(st)\n",
    "print(st[0:30:2])  # it print every second character (2 jump)"
   ]
  },
  {
   "cell_type": "code",
   "execution_count": 13,
   "id": "ead38901-144a-49a7-9283-3aede5ccdcc3",
   "metadata": {},
   "outputs": [
    {
     "name": "stdout",
     "output_type": "stream",
     "text": [
      "This is a test string is my notebook my pen is good\n",
      "Ti sats tigi yntbo ypni od\n"
     ]
    }
   ],
   "source": [
    "print(st)\n",
    "print(st[::2])  # it print every second character"
   ]
  },
  {
   "cell_type": "code",
   "execution_count": 17,
   "id": "93f7669e-61f8-48bd-9e18-576a8d02a457",
   "metadata": {},
   "outputs": [
    {
     "name": "stdout",
     "output_type": "stream",
     "text": [
      "This is a test string is my notebook my pen is good\n",
      "\n"
     ]
    }
   ],
   "source": [
    "print(st)\n",
    "print(st[-1:-35]) # No output"
   ]
  },
  {
   "cell_type": "code",
   "execution_count": 15,
   "id": "b502d71a-ed0d-4e9f-a8a1-e8aed7e050e0",
   "metadata": {},
   "outputs": [
    {
     "name": "stdout",
     "output_type": "stream",
     "text": [
      "This is a test string is my notebook my pen is good\n",
      "doog si nep ym koobeton ym si gnir\n",
      "51\n"
     ]
    }
   ],
   "source": [
    "print(st)\n",
    "print(st[-1:-35:-1]) # No output\n",
    "print(len(st))"
   ]
  },
  {
   "cell_type": "code",
   "execution_count": 19,
   "id": "90846192-f8e8-4dea-b778-d953bccfbb4e",
   "metadata": {},
   "outputs": [
    {
     "name": "stdout",
     "output_type": "stream",
     "text": [
      "This is a test string is my notebook my pen is good\n",
      "do inpy obtny igit stas iT\n"
     ]
    }
   ],
   "source": [
    "print(st)\n",
    "print(st[-1::-2]) # No output"
   ]
  },
  {
   "cell_type": "code",
   "execution_count": 21,
   "id": "2c1564b3-7028-49d0-a474-74356eb41af2",
   "metadata": {},
   "outputs": [
    {
     "name": "stdout",
     "output_type": "stream",
     "text": [
      "alkuhs dnivog\n",
      "akh nvg\n"
     ]
    }
   ],
   "source": [
    "s = 'govind shukla'\n",
    "print(s[::-1]) # Reverse\n",
    "print(s[::-2]) # Reverse"
   ]
  },
  {
   "cell_type": "code",
   "execution_count": 23,
   "id": "01d50465-308b-43d5-aabe-4f61267968ec",
   "metadata": {},
   "outputs": [
    {
     "name": "stdout",
     "output_type": "stream",
     "text": [
      "No or string is palindrome\n"
     ]
    }
   ],
   "source": [
    "# Q ) No is palindrome or not\n",
    "\n",
    "a = str(1331)\n",
    "b = a[::-1]\n",
    "if a == b:\n",
    "    print('No or string is palindrome')\n",
    "else:\n",
    "    print('Not palindome')"
   ]
  },
  {
   "cell_type": "code",
   "execution_count": 27,
   "id": "bb3fafab-8d5c-485b-9833-5f2f34e4639e",
   "metadata": {},
   "outputs": [
    {
     "name": "stdin",
     "output_type": "stream",
     "text": [
      "Enter any number or string govind\n"
     ]
    },
    {
     "name": "stdout",
     "output_type": "stream",
     "text": [
      "Not palindome\n"
     ]
    }
   ],
   "source": [
    "a = input('Enter any number or string')\n",
    "b = a[::-1]\n",
    "if a == b:\n",
    "    print('No or string is palindrome')\n",
    "else:\n",
    "    print('Not palindome')"
   ]
  },
  {
   "cell_type": "code",
   "execution_count": 29,
   "id": "a45b8ce9-8906-4c7d-ae2a-7443279ef82c",
   "metadata": {},
   "outputs": [
    {
     "name": "stdout",
     "output_type": "stream",
     "text": [
      "Th\n",
      "is\n"
     ]
    }
   ],
   "source": [
    "a = 'This is a test'\n",
    "print(a[:2])\n",
    "print(a[2:4])     # 2 ka pair hoga"
   ]
  },
  {
   "cell_type": "markdown",
   "id": "6dba6a4a-af20-4c92-abe6-f0bded214e47",
   "metadata": {},
   "source": [
    "# String Methods :-"
   ]
  },
  {
   "cell_type": "code",
   "execution_count": 12,
   "id": "b6a3698e-94e3-4531-81b0-3a6085342eca",
   "metadata": {},
   "outputs": [
    {
     "data": {
      "text/plain": [
       "'Govind'"
      ]
     },
     "execution_count": 12,
     "metadata": {},
     "output_type": "execute_result"
    }
   ],
   "source": [
    "a = 'govind'\n",
    "a.capitalize()"
   ]
  },
  {
   "cell_type": "code",
   "execution_count": 52,
   "id": "f786786c-022b-4da7-9d1f-171a96856ad7",
   "metadata": {},
   "outputs": [
    {
     "name": "stdout",
     "output_type": "stream",
     "text": [
      "Ram\n",
      "      Ram      \n"
     ]
    }
   ],
   "source": [
    "a = 'Ram'\n",
    "print(a)\n",
    "a = a.center(15) #  Space-around  or used for padding \n",
    "print(a)"
   ]
  },
  {
   "cell_type": "code",
   "execution_count": 47,
   "id": "9227e279-6bac-48a8-9e78-c3433855be2b",
   "metadata": {},
   "outputs": [
    {
     "data": {
      "text/plain": [
       "2"
      ]
     },
     "execution_count": 47,
     "metadata": {},
     "output_type": "execute_result"
    }
   ],
   "source": [
    "a = 'This is a test string is my notebook my pen is good'\n",
    "a.count('my')"
   ]
  },
  {
   "cell_type": "code",
   "execution_count": 55,
   "id": "46cbfe51-519e-4c5a-a9e9-e4147ebc22d2",
   "metadata": {},
   "outputs": [
    {
     "data": {
      "text/plain": [
       "15"
      ]
     },
     "execution_count": 55,
     "metadata": {},
     "output_type": "execute_result"
    }
   ],
   "source": [
    "a = 'This is a test string is my notebook my pen is good'\n",
    "a.find('string')"
   ]
  },
  {
   "cell_type": "code",
   "execution_count": 62,
   "id": "aa64c93c-f834-4163-ab5b-81949c961bd9",
   "metadata": {},
   "outputs": [
    {
     "data": {
      "text/plain": [
       "10"
      ]
     },
     "execution_count": 62,
     "metadata": {},
     "output_type": "execute_result"
    }
   ],
   "source": [
    "a = 'This is a test string is my notebook my pen is good'\n",
    "a.index('test')     # used to find out substring starting index position in main string.    "
   ]
  },
  {
   "cell_type": "code",
   "execution_count": 64,
   "id": "dbb82535-58f4-4062-b55f-011deafa1cb3",
   "metadata": {},
   "outputs": [
    {
     "data": {
      "text/plain": [
       "True"
      ]
     },
     "execution_count": 64,
     "metadata": {},
     "output_type": "execute_result"
    }
   ],
   "source": [
    "a = '123'\n",
    "a.isalnum()             #Only alphabet and numeric keyword"
   ]
  },
  {
   "cell_type": "code",
   "execution_count": 74,
   "id": "279d3417-1253-45ce-97af-a742ac2dcd37",
   "metadata": {},
   "outputs": [
    {
     "data": {
      "text/plain": [
       "False"
      ]
     },
     "execution_count": 74,
     "metadata": {},
     "output_type": "execute_result"
    }
   ],
   "source": [
    "a = '@##$%%%'\n",
    "a.isalnum()            "
   ]
  },
  {
   "cell_type": "code",
   "execution_count": 76,
   "id": "bcdb9562-5db9-4446-823a-6f6215bb1b0f",
   "metadata": {},
   "outputs": [
    {
     "data": {
      "text/plain": [
       "True"
      ]
     },
     "execution_count": 76,
     "metadata": {},
     "output_type": "execute_result"
    }
   ],
   "source": [
    "a = 'STR'\n",
    "a.isalpha()             #Only alphabet"
   ]
  },
  {
   "cell_type": "code",
   "execution_count": 58,
   "id": "b14b4ff0-b35d-4124-82a2-fc4f13c1d539",
   "metadata": {},
   "outputs": [
    {
     "data": {
      "text/plain": [
       "True"
      ]
     },
     "execution_count": 58,
     "metadata": {},
     "output_type": "execute_result"
    }
   ],
   "source": [
    "a = '12345'\n",
    "a.isdigit()             #Only digit not include float value."
   ]
  },
  {
   "cell_type": "code",
   "execution_count": 60,
   "id": "a213ad69-3e50-429e-8acf-b79789f050c7",
   "metadata": {},
   "outputs": [
    {
     "data": {
      "text/plain": [
       "False"
      ]
     },
     "execution_count": 60,
     "metadata": {},
     "output_type": "execute_result"
    }
   ],
   "source": [
    "a = '123ww3'\n",
    "a.isdigit()"
   ]
  },
  {
   "cell_type": "code",
   "execution_count": 62,
   "id": "1f03d362-dd1f-4671-b199-8797f98b2a9b",
   "metadata": {},
   "outputs": [
    {
     "data": {
      "text/plain": [
       "False"
      ]
     },
     "execution_count": 62,
     "metadata": {},
     "output_type": "execute_result"
    }
   ],
   "source": [
    "a = '122.2'\n",
    "a.isdigit()"
   ]
  },
  {
   "cell_type": "code",
   "execution_count": 80,
   "id": "bc098511-35cd-44be-be12-7285d096289b",
   "metadata": {},
   "outputs": [
    {
     "data": {
      "text/plain": [
       "True"
      ]
     },
     "execution_count": 80,
     "metadata": {},
     "output_type": "execute_result"
    }
   ],
   "source": [
    "a = '12337'\n",
    "a.isnumeric()             # Only Number not included any comlex no or float no or any other."
   ]
  },
  {
   "cell_type": "code",
   "execution_count": 67,
   "id": "c4a06bad-53f5-49f7-9673-12b401da822c",
   "metadata": {},
   "outputs": [
    {
     "data": {
      "text/plain": [
       "False"
      ]
     },
     "execution_count": 67,
     "metadata": {},
     "output_type": "execute_result"
    }
   ],
   "source": [
    "a = '12337.7'\n",
    "a.isnumeric()"
   ]
  },
  {
   "cell_type": "code",
   "execution_count": 69,
   "id": "95a80902-b9e7-4934-95ab-f73eab93d5d8",
   "metadata": {},
   "outputs": [
    {
     "data": {
      "text/plain": [
       "False"
      ]
     },
     "execution_count": 69,
     "metadata": {},
     "output_type": "execute_result"
    }
   ],
   "source": [
    "a = '3+4j'\n",
    "a.isnumeric()"
   ]
  },
  {
   "cell_type": "code",
   "execution_count": 71,
   "id": "22f38745-c4ee-4cba-b7f9-dc6c4f000424",
   "metadata": {},
   "outputs": [
    {
     "data": {
      "text/plain": [
       "True"
      ]
     },
     "execution_count": 71,
     "metadata": {},
     "output_type": "execute_result"
    }
   ],
   "source": [
    "a = 'govind'\n",
    "a.islower()                   # Only Lower character."
   ]
  },
  {
   "cell_type": "code",
   "execution_count": 73,
   "id": "75de9582-5db4-4c13-9fc7-beefd2f0459e",
   "metadata": {},
   "outputs": [
    {
     "data": {
      "text/plain": [
       "False"
      ]
     },
     "execution_count": 73,
     "metadata": {},
     "output_type": "execute_result"
    }
   ],
   "source": [
    "a = 'Govind'\n",
    "a.islower()"
   ]
  },
  {
   "cell_type": "code",
   "execution_count": 88,
   "id": "6edfd7d4-10b6-4660-8c73-ba1eceb70495",
   "metadata": {},
   "outputs": [
    {
     "data": {
      "text/plain": [
       "False"
      ]
     },
     "execution_count": 88,
     "metadata": {},
     "output_type": "execute_result"
    }
   ],
   "source": [
    "a = 'Govind Shukla'\n",
    "a.istitle()            # Only first letter of each word is capital then it is true otherwise false."
   ]
  },
  {
   "cell_type": "code",
   "execution_count": 98,
   "id": "933db06d-4fab-4526-b05b-eea30cd3a5bb",
   "metadata": {},
   "outputs": [
    {
     "data": {
      "text/plain": [
       "False"
      ]
     },
     "execution_count": 98,
     "metadata": {},
     "output_type": "execute_result"
    }
   ],
   "source": [
    "a = 'Govind shukla'\n",
    "a.istitle()       "
   ]
  },
  {
   "cell_type": "code",
   "execution_count": 100,
   "id": "9a1eabc8-9b6d-4ba4-9782-793f306444c7",
   "metadata": {},
   "outputs": [
    {
     "data": {
      "text/plain": [
       "True"
      ]
     },
     "execution_count": 100,
     "metadata": {},
     "output_type": "execute_result"
    }
   ],
   "source": [
    "a = 'Govind'\n",
    "a.istitle()"
   ]
  },
  {
   "cell_type": "code",
   "execution_count": 102,
   "id": "dd9b24dd-9263-4754-9fdd-cef4e97528b3",
   "metadata": {},
   "outputs": [
    {
     "data": {
      "text/plain": [
       "False"
      ]
     },
     "execution_count": 102,
     "metadata": {},
     "output_type": "execute_result"
    }
   ],
   "source": [
    "a = 'GOvInD'\n",
    "a.istitle()"
   ]
  },
  {
   "cell_type": "code",
   "execution_count": 104,
   "id": "5a9fbe73-5c34-4c18-9295-7ca013e37472",
   "metadata": {},
   "outputs": [
    {
     "data": {
      "text/plain": [
       "True"
      ]
     },
     "execution_count": 104,
     "metadata": {},
     "output_type": "execute_result"
    }
   ],
   "source": [
    "a = 'GOVIND SHUKLA I AM'\n",
    "a.isupper()                # Only upper character allowed ."
   ]
  },
  {
   "cell_type": "code",
   "execution_count": 4,
   "id": "016d1ad0-846d-4d59-a780-ce783654c4fe",
   "metadata": {},
   "outputs": [
    {
     "data": {
      "text/plain": [
       "False"
      ]
     },
     "execution_count": 4,
     "metadata": {},
     "output_type": "execute_result"
    }
   ],
   "source": [
    "a = 'GOVIND SHUKLA I AM'\n",
    "a.islower()             # Check condition if it is lower or not."
   ]
  },
  {
   "cell_type": "code",
   "execution_count": 10,
   "id": "98a9daa3-fe65-4850-8629-2ccfd285ed54",
   "metadata": {},
   "outputs": [
    {
     "name": "stdout",
     "output_type": "stream",
     "text": [
      "This is a test string when we type\n",
      "('This is a ', 'test', ' string when we type')\n",
      "<class 'tuple'>\n"
     ]
    }
   ],
   "source": [
    "a = 'This is a test string when we type'\n",
    "print(a)\n",
    "b = a.partition('test')  # Mainly partition function is used for three parts using the given separator word.\n",
    "print(b)\n",
    "print(type(b))"
   ]
  },
  {
   "cell_type": "code",
   "execution_count": 106,
   "id": "5a78ede9-6209-4da6-a48c-2cac722b42d5",
   "metadata": {},
   "outputs": [
    {
     "data": {
      "text/plain": [
       "'govind shukla i am'"
      ]
     },
     "execution_count": 106,
     "metadata": {},
     "output_type": "execute_result"
    }
   ],
   "source": [
    "a = 'GOVIND SHUKLA I AM'\n",
    "a.lower()                # Convert upper case into lower case"
   ]
  },
  {
   "cell_type": "code",
   "execution_count": 108,
   "id": "754cf123-1ade-4a78-a96c-e52a8b52bafa",
   "metadata": {},
   "outputs": [
    {
     "data": {
      "text/plain": [
       "'GOVIND SHKLA I AM'"
      ]
     },
     "execution_count": 108,
     "metadata": {},
     "output_type": "execute_result"
    }
   ],
   "source": [
    "a = 'govind shkla i am'\n",
    "a.upper()                # Convert lower case into upper case"
   ]
  },
  {
   "cell_type": "code",
   "execution_count": 13,
   "id": "c427b1b8-68b3-4611-82b6-bdaa7280aae8",
   "metadata": {},
   "outputs": [
    {
     "data": {
      "text/plain": [
       "'tHIS IS MY name govind SHUKLA'"
      ]
     },
     "execution_count": 13,
     "metadata": {},
     "output_type": "execute_result"
    }
   ],
   "source": [
    "a = 'This is my NAME GOVIND shukla'\n",
    "a.swapcase()             # jo lower wo upper aur jo upper wo lower"
   ]
  },
  {
   "cell_type": "code",
   "execution_count": 15,
   "id": "c7591845-5494-422f-9066-632139c917e9",
   "metadata": {},
   "outputs": [
    {
     "data": {
      "text/plain": [
       "'This Is My Name Govind Shukla'"
      ]
     },
     "execution_count": 15,
     "metadata": {},
     "output_type": "execute_result"
    }
   ],
   "source": [
    "a = 'This is my NAME GOVIND shukla'\n",
    "a.title()                 #  capatilize of each starting word "
   ]
  },
  {
   "cell_type": "code",
   "execution_count": 17,
   "id": "547b267c-32f5-4849-8ff0-446da2f29d35",
   "metadata": {},
   "outputs": [
    {
     "name": "stdout",
     "output_type": "stream",
     "text": [
      "00040\n"
     ]
    }
   ],
   "source": [
    "b = '40'\n",
    "b = b.zfill(5)\n",
    "print(b)                 # left se 0 fill karega."
   ]
  },
  {
   "cell_type": "code",
   "execution_count": 21,
   "id": "099cdb16-0c81-40d3-84d7-792813f5e53a",
   "metadata": {},
   "outputs": [
    {
     "name": "stdout",
     "output_type": "stream",
     "text": [
      "JARVIS AN Ai Strong\n",
      "GOVIND ON Oi Dtrong\n"
     ]
    }
   ],
   "source": [
    "a = 'JARVIS AN Ai Strong'\n",
    "b = a.maketrans('JARVIS','GOVIND')\n",
    "print(a)\n",
    "a = a.translate(b)\n",
    "print(a)                  # Saamne saamne word replace ho rha hai   use for encrypted password ."
   ]
  },
  {
   "cell_type": "code",
   "execution_count": 19,
   "id": "d6eb4947-8325-4662-b56e-b62aa7110060",
   "metadata": {},
   "outputs": [
    {
     "name": "stdout",
     "output_type": "stream",
     "text": [
      "Return a translation table usable for str.translate().\n",
      "\n",
      "If there is only one argument, it must be a dictionary mapping Unicode\n",
      "ordinals (integers) or characters to Unicode ordinals, strings or None.\n",
      "Character keys will be then converted to ordinals.\n",
      "If there are two arguments, they must be strings of equal length, and\n",
      "in the resulting dictionary, each character in x will be mapped to the\n",
      "character at the same position in y. If there is a third argument, it\n",
      "must be a string, whose characters will be mapped to None in the result.\n"
     ]
    }
   ],
   "source": [
    "print(a.maketrans.__doc__)"
   ]
  },
  {
   "cell_type": "code",
   "execution_count": 23,
   "id": "49946e7d-fbe6-48fb-8bac-e67a4952a41f",
   "metadata": {},
   "outputs": [
    {
     "data": {
      "text/plain": [
       "True"
      ]
     },
     "execution_count": 23,
     "metadata": {},
     "output_type": "execute_result"
    }
   ],
   "source": [
    "a = 'Shukla is  a good name in culture'\n",
    "a.startswith('Shu')                  # Given word se start ho rha hai ya nhi"
   ]
  },
  {
   "cell_type": "code",
   "execution_count": 25,
   "id": "f3b9cc96-bec2-49db-b15f-21d90a8a9e16",
   "metadata": {},
   "outputs": [
    {
     "data": {
      "text/plain": [
       "False"
      ]
     },
     "execution_count": 25,
     "metadata": {},
     "output_type": "execute_result"
    }
   ],
   "source": [
    "a = 'Shukla is  a good name in culture'\n",
    "a.startswith('Shuklaa') "
   ]
  },
  {
   "cell_type": "code",
   "execution_count": 27,
   "id": "0296665b-aa23-417e-9d6c-2de3e5befbe5",
   "metadata": {},
   "outputs": [
    {
     "data": {
      "text/plain": [
       "False"
      ]
     },
     "execution_count": 27,
     "metadata": {},
     "output_type": "execute_result"
    }
   ],
   "source": [
    "a = 'Shukla is  a good name in culture'\n",
    "a.startswith('shukla') "
   ]
  },
  {
   "cell_type": "code",
   "execution_count": 29,
   "id": "30d4b58f-6b2e-4a2e-8bba-60c3ef222e3a",
   "metadata": {},
   "outputs": [
    {
     "data": {
      "text/plain": [
       "False"
      ]
     },
     "execution_count": 29,
     "metadata": {},
     "output_type": "execute_result"
    }
   ],
   "source": [
    "a = 'Shukla is  a good name in culture'\n",
    "a.startswith('Shuklais')              # Space bhi consider hota hai"
   ]
  },
  {
   "cell_type": "code",
   "execution_count": 31,
   "id": "2e0579e1-1f8f-4324-aeee-a0a0785c9271",
   "metadata": {},
   "outputs": [
    {
     "data": {
      "text/plain": [
       "True"
      ]
     },
     "execution_count": 31,
     "metadata": {},
     "output_type": "execute_result"
    }
   ],
   "source": [
    "a = 'Shukla is  a good name in culture'\n",
    "a.endswith('culture')                 # Given word se end ho rha hai ya nhi"
   ]
  },
  {
   "cell_type": "code",
   "execution_count": 33,
   "id": "57fe85c2-d2df-4526-856d-2dc17c5153a0",
   "metadata": {},
   "outputs": [
    {
     "data": {
      "text/plain": [
       "False"
      ]
     },
     "execution_count": 33,
     "metadata": {},
     "output_type": "execute_result"
    }
   ],
   "source": [
    "a = 'Shukla is  a good name in culture'\n",
    "a.endswith('cultures') "
   ]
  },
  {
   "cell_type": "code",
   "execution_count": 35,
   "id": "16f9bc25-ee4b-4c85-8b5f-6ee2b67a9989",
   "metadata": {},
   "outputs": [
    {
     "data": {
      "text/plain": [
       "False"
      ]
     },
     "execution_count": 35,
     "metadata": {},
     "output_type": "execute_result"
    }
   ],
   "source": [
    "a = 'Shukla is  a good name in culture'\n",
    "a.endswith('inculture')"
   ]
  },
  {
   "cell_type": "code",
   "execution_count": 37,
   "id": "2cc86390-1463-495b-9b53-ae3b3846e72b",
   "metadata": {},
   "outputs": [
    {
     "data": {
      "text/plain": [
       "True"
      ]
     },
     "execution_count": 37,
     "metadata": {},
     "output_type": "execute_result"
    }
   ],
   "source": [
    "a = 'Shukla is  a good name in culture'\n",
    "a.endswith('in culture')"
   ]
  },
  {
   "cell_type": "code",
   "execution_count": 39,
   "id": "bd4ac6e2-c32b-4922-9af2-0be43fc4ef44",
   "metadata": {},
   "outputs": [
    {
     "data": {
      "text/plain": [
       "'Hariom is a good learner our class while he is doourg best'"
      ]
     },
     "execution_count": 39,
     "metadata": {},
     "output_type": "execute_result"
    }
   ],
   "source": [
    "a = 'Hariom is a good learner in class while he is doing best'\n",
    "a.replace('in','our')                   # jaha in ho waha our ker do"
   ]
  },
  {
   "cell_type": "code",
   "execution_count": 43,
   "id": "add80eb6-af6f-4278-b381-828560cc1afd",
   "metadata": {},
   "outputs": [
    {
     "data": {
      "text/plain": [
       "'Hariom our a good learner in class while he is doing best'"
      ]
     },
     "execution_count": 43,
     "metadata": {},
     "output_type": "execute_result"
    }
   ],
   "source": [
    "a = 'Hariom is a good learner in class while he is doing best'\n",
    "a.replace('is','our',1) "
   ]
  },
  {
   "cell_type": "code",
   "execution_count": 45,
   "id": "46874169-c6bf-46f4-8fe1-1da8d116194f",
   "metadata": {},
   "outputs": [
    {
     "data": {
      "text/plain": [
       "'i like samosa but also fond mango'"
      ]
     },
     "execution_count": 45,
     "metadata": {},
     "output_type": "execute_result"
    }
   ],
   "source": [
    "a = 'i fond samosa but also fond mango'\n",
    "a.replace('fond','like',1)             # Word find out karna phir change karna"
   ]
  },
  {
   "cell_type": "code",
   "execution_count": 47,
   "id": "3655d14d-9648-4c00-940c-71e892e02c71",
   "metadata": {},
   "outputs": [
    {
     "data": {
      "text/plain": [
       "'i fond samosa but also fond mango'"
      ]
     },
     "execution_count": 47,
     "metadata": {},
     "output_type": "execute_result"
    }
   ],
   "source": [
    "a = 'i fond samosa but also fond mango'\n",
    "a.replace('wish','like',21)           # jo word nhi hai wo change hoga hi nhi"
   ]
  },
  {
   "cell_type": "code",
   "execution_count": 49,
   "id": "00a05391-c694-4caf-97ab-154387d389cc",
   "metadata": {},
   "outputs": [
    {
     "data": {
      "text/plain": [
       "'samosa but also  fond mango'"
      ]
     },
     "execution_count": 49,
     "metadata": {},
     "output_type": "execute_result"
    }
   ],
   "source": [
    "a = 'i fond samosa but also  fond mango'\n",
    "a[7:].replace('wish','like',21)"
   ]
  },
  {
   "cell_type": "code",
   "execution_count": 53,
   "id": "152b2e09-d9a7-43f5-81bb-0b3fa7421123",
   "metadata": {},
   "outputs": [
    {
     "data": {
      "text/plain": [
       "'Samosa but also like mango'"
      ]
     },
     "execution_count": 53,
     "metadata": {},
     "output_type": "execute_result"
    }
   ],
   "source": [
    "a = 'i fond Samosa but also fond mango'\n",
    "a[7:].replace('fond','like',1)       # We can start at any index position of string then run function on that string like replace or anymore."
   ]
  },
  {
   "cell_type": "code",
   "execution_count": 65,
   "id": "1417f921-e2d3-4e04-9df2-758c7037e4d3",
   "metadata": {},
   "outputs": [
    {
     "name": "stdout",
     "output_type": "stream",
     "text": [
      "i like samosa but also like mango\n",
      "i fond samosa but also like mango\n"
     ]
    }
   ],
   "source": [
    "#Q ) Firstly print like at the place of fond then print fond at first like position\n",
    "\n",
    "a = 'i fond samosa but also fond mango'\n",
    "b = a.replace('fond','like') \n",
    "print(b)\n",
    "c=(b.replace('like','fond',1))\n",
    "print(c)"
   ]
  },
  {
   "cell_type": "code",
   "execution_count": 75,
   "id": "f1e8c5f9-020f-4c10-80d7-53d904ebdf30",
   "metadata": {},
   "outputs": [
    {
     "name": "stdout",
     "output_type": "stream",
     "text": [
      "21\n",
      "This is string    \n",
      "18\n"
     ]
    }
   ],
   "source": [
    "a = \"   This is string    \"\n",
    "print(len(a))\n",
    "b = a.lstrip()                # lstrip is used to remove space from left side\n",
    "print(b)\n",
    "print(len(b))"
   ]
  },
  {
   "cell_type": "code",
   "execution_count": 77,
   "id": "2f086d9d-d68b-43fe-9961-cc789b647d3b",
   "metadata": {},
   "outputs": [
    {
     "name": "stdout",
     "output_type": "stream",
     "text": [
      "21\n",
      "   This is string\n",
      "17\n"
     ]
    }
   ],
   "source": [
    "a = \"   This is string    \"\n",
    "print(len(a))\n",
    "b = a.rstrip()              # rstrip is used to remove space from right side\n",
    "print(b)\n",
    "print(len(b))"
   ]
  },
  {
   "cell_type": "code",
   "execution_count": 86,
   "id": "77ac0c76-1b7c-4d98-8344-994fea16c215",
   "metadata": {},
   "outputs": [
    {
     "name": "stdout",
     "output_type": "stream",
     "text": [
      "34\n",
      "Govind@123\n",
      "10\n"
     ]
    }
   ],
   "source": [
    "a = \"          Govind@123              \"\n",
    "print(len(a))\n",
    "a = a.strip()              # Strip is used for Remove spaces at the beginning and at the end of the string \n",
    "print(a)\n",
    "print(len(a))"
   ]
  },
  {
   "cell_type": "code",
   "execution_count": 90,
   "id": "5a23c1a6-0bfa-4f9d-9cb8-b57970d89de5",
   "metadata": {},
   "outputs": [
    {
     "name": "stdout",
     "output_type": "stream",
     "text": [
      "18\n",
      "    Govind@123\n",
      "14\n"
     ]
    }
   ],
   "source": [
    "a = \"    Govind@123    \"\n",
    "print(len(a))\n",
    "a = a.rstrip()\n",
    "print(a)\n",
    "print(len(a))"
   ]
  },
  {
   "cell_type": "code",
   "execution_count": 96,
   "id": "c7325a06-163d-4f9a-8e3c-ac957a1e89f5",
   "metadata": {},
   "outputs": [
    {
     "name": "stdout",
     "output_type": "stream",
     "text": [
      "19\n",
      "Govind@123     \n",
      "15\n"
     ]
    }
   ],
   "source": [
    "a = \"    Govind@123     \"\n",
    "print(len(a))\n",
    "a = a.lstrip()\n",
    "print(a)\n",
    "print(len(a))"
   ]
  },
  {
   "cell_type": "code",
   "execution_count": 98,
   "id": "a35af970-c4f1-4a19-9843-32e086b7a42c",
   "metadata": {},
   "outputs": [
    {
     "name": "stdout",
     "output_type": "stream",
     "text": [
      "True\n"
     ]
    }
   ],
   "source": [
    "a = 'Hariom is a good learner in class while he is doing best'\n",
    "print('good' in a)          # Particular word exist in the given string or not"
   ]
  },
  {
   "cell_type": "code",
   "execution_count": 102,
   "id": "69c93f2a-129f-41a5-a6d0-2a2e204bdb4b",
   "metadata": {},
   "outputs": [
    {
     "name": "stdout",
     "output_type": "stream",
     "text": [
      "False\n"
     ]
    }
   ],
   "source": [
    "a = 'Hariom is a good learner in class while he is doing best'\n",
    "print('hariom' in a)"
   ]
  },
  {
   "cell_type": "code",
   "execution_count": 104,
   "id": "f57dec2b-b282-4140-a584-6c518e090257",
   "metadata": {},
   "outputs": [
    {
     "name": "stdout",
     "output_type": "stream",
     "text": [
      "2\n"
     ]
    }
   ],
   "source": [
    "a = 'Hariom is a good learner in class while he is doing best'\n",
    "print(a.count('is'))          # Count how many time particular word availiable at that string."
   ]
  },
  {
   "cell_type": "code",
   "execution_count": 106,
   "id": "6ff016e1-f38e-4aa3-8fd9-f60c0bc3cf52",
   "metadata": {},
   "outputs": [
    {
     "name": "stdout",
     "output_type": "stream",
     "text": [
      "0\n"
     ]
    }
   ],
   "source": [
    "a = 'Hariom is a good learner in class while he is doing best'\n",
    "print(a.count('Govind'))      # Govind word not exist."
   ]
  },
  {
   "cell_type": "code",
   "execution_count": 109,
   "id": "49b85868-2255-4778-bea3-5380dc800cba",
   "metadata": {},
   "outputs": [
    {
     "name": "stdout",
     "output_type": "stream",
     "text": [
      "['Hariom', 'is', 'a', 'good', 'learner', 'in', 'class', 'while', 'he', 'is', 'doing', 'best']\n"
     ]
    }
   ],
   "source": [
    "# SPLIT\n",
    "\n",
    "a = 'Hariom is a good learner in class while he is doing best'\n",
    "words = a.split()               # dafault = ' '\n",
    "print(words)                    # Each word convert into element."
   ]
  },
  {
   "cell_type": "code",
   "execution_count": 120,
   "id": "d2c7bd3e-7d81-448b-a9bb-3129b126fbcc",
   "metadata": {},
   "outputs": [
    {
     "name": "stdout",
     "output_type": "stream",
     "text": [
      "['Hariom is a good learner ', ' class while he is do', 'g best']\n"
     ]
    }
   ],
   "source": [
    "a = 'Hariom is a good learner in class while he is doing best'\n",
    "words = a.split( sep = 'in' )                \n",
    "print(words)                    # hum kisi particular element se split kr skte hai."
   ]
  },
  {
   "cell_type": "code",
   "execution_count": 124,
   "id": "17720995-0983-4422-a159-59dad27591aa",
   "metadata": {},
   "outputs": [
    {
     "name": "stdout",
     "output_type": "stream",
     "text": [
      "Hariom is a good learner in class while he is doing best\n"
     ]
    }
   ],
   "source": [
    "# Join\n",
    "\n",
    "sent = \" \".join(words)         # Mainly JOIN is used for convert list element in a sentences.\n",
    "print(sent)                   # har list ke element ko sentence formst me likhna hota hai"
   ]
  },
  {
   "cell_type": "code",
   "execution_count": 126,
   "id": "38d49a1a-92a5-4339-9510-c8c87290eb7a",
   "metadata": {},
   "outputs": [
    {
     "name": "stdout",
     "output_type": "stream",
     "text": [
      "30/sep/2024\n"
     ]
    }
   ],
   "source": [
    "date = '30'\n",
    "month = 'sep'\n",
    "year = '2024'\n",
    "c_date = \"/\".join((date,month,year))\n",
    "print(c_date)"
   ]
  },
  {
   "cell_type": "code",
   "execution_count": 129,
   "id": "01375b8d-936a-4446-935b-ad9e29532993",
   "metadata": {},
   "outputs": [
    {
     "name": "stdout",
     "output_type": "stream",
     "text": [
      "G~o~v~i~n~d\n"
     ]
    }
   ],
   "source": [
    "a = 'Govind'\n",
    "b = '~'.join(a)\n",
    "print(b)"
   ]
  },
  {
   "cell_type": "code",
   "execution_count": 135,
   "id": "680d8736-84cc-461f-b4f4-3fa416767972",
   "metadata": {},
   "outputs": [
    {
     "name": "stdin",
     "output_type": "stream",
     "text": [
      "Enter the sentences:  ram\n"
     ]
    },
    {
     "name": "stdout",
     "output_type": "stream",
     "text": [
      "words =  1\n",
      "No of chars  3\n"
     ]
    }
   ],
   "source": [
    "# Q ) Count the no of word and character of any word\n",
    "\n",
    "sentence =(input('Enter the sentences: '))\n",
    "print('words = ',sentence.count(\" \")+1)\n",
    "print('No of chars ',len(sentence))"
   ]
  },
  {
   "cell_type": "code",
   "execution_count": 137,
   "id": "7e99a510-7779-49c2-bd37-5cbdd7650cca",
   "metadata": {},
   "outputs": [
    {
     "name": "stdout",
     "output_type": "stream",
     "text": [
      "Govind Shukla\n"
     ]
    }
   ],
   "source": [
    "a = 'Govind'\n",
    "b = 'Shukla'\n",
    "c = a+\" \"+b\n",
    "print(c)      # Add multiple variable using space or not. "
   ]
  },
  {
   "cell_type": "code",
   "execution_count": 139,
   "id": "26297c61-0e67-4c93-8a0d-f3e1f64ac50e",
   "metadata": {},
   "outputs": [
    {
     "name": "stdout",
     "output_type": "stream",
     "text": [
      "GovindGovindGovind\n"
     ]
    }
   ],
   "source": [
    "a = 'Govind'\n",
    "c = a*3\n",
    "print(c)        # print multiple time string using * button"
   ]
  },
  {
   "cell_type": "code",
   "execution_count": 214,
   "id": "296510e1-921b-4024-9259-12aae5421a5c",
   "metadata": {},
   "outputs": [
    {
     "name": "stdout",
     "output_type": "stream",
     "text": [
      "Govind Govind Govind \n"
     ]
    }
   ],
   "source": [
    "a = 'Govind'\n",
    "c = (a+\" \")*3\n",
    "print(c)       "
   ]
  },
  {
   "cell_type": "markdown",
   "id": "7cb4f651-7d92-4b96-b9ed-96074f41120a",
   "metadata": {},
   "source": [
    "# Q ) Password create problem \n",
    "\n",
    "#it should be lower case = 1 , upper case = 1 , min_len = 6 , max-len = 12"
   ]
  },
  {
   "cell_type": "code",
   "execution_count": 9,
   "id": "b15e2f61-f96c-43a3-b7b6-86b25a30d47f",
   "metadata": {},
   "outputs": [
    {
     "name": "stdin",
     "output_type": "stream",
     "text": [
      "Enter password Govind@123\n"
     ]
    },
    {
     "name": "stdout",
     "output_type": "stream",
     "text": [
      "Password is OK\n"
     ]
    }
   ],
   "source": [
    "a = input('Enter password')\n",
    "if len(a)>=6 and len(a)<=12:\n",
    "    has_lower = True\n",
    "    has_upper = True\n",
    "    has_number = True\n",
    "    has_special = True\n",
    "    \n",
    "    for i in \"ABCDEFGHIJKLMNOPQRSTUVWXYZ\":\n",
    "        if i in a:\n",
    "            has_upper = True\n",
    "            break\n",
    "        else:\n",
    "            has_upper = False\n",
    "\n",
    "    for i in \"abcdefghijklmnopqrstuvwxyz\":\n",
    "        if i in a:\n",
    "            has_lower = True\n",
    "            break\n",
    "        else:\n",
    "            has_lower = False\n",
    "\n",
    "    for i in \"0123456789\":\n",
    "        if i in a:\n",
    "            has_number = True\n",
    "            break\n",
    "        else:\n",
    "            has_number = False\n",
    "\n",
    "    for i in \"~!@#$%^&*()_+{[}].?><'=-/\\\\\":\n",
    "        if i in a:\n",
    "            has_special = True\n",
    "            break\n",
    "        else:\n",
    "            has_special = False\n",
    "\n",
    "    if has_lower and has_number and has_special and has_upper:\n",
    "        print('Password is OK')\n",
    "    else:\n",
    "        print('Lower case word is :',has_lower)\n",
    "        print('Number is :',has_number)\n",
    "        print('Special character is :',has_special)\n",
    "        print('Upper case word is:',has_upper)\n",
    "        print('Password is not correct')\n",
    "else:\n",
    "    print('Password must be nore than 5 character and less than 13 character.') "
   ]
  }
 ],
 "metadata": {
  "kernelspec": {
   "display_name": "Python 3 (ipykernel)",
   "language": "python",
   "name": "python3"
  },
  "language_info": {
   "codemirror_mode": {
    "name": "ipython",
    "version": 3
   },
   "file_extension": ".py",
   "mimetype": "text/x-python",
   "name": "python",
   "nbconvert_exporter": "python",
   "pygments_lexer": "ipython3",
   "version": "3.12.4"
  }
 },
 "nbformat": 4,
 "nbformat_minor": 5
}
