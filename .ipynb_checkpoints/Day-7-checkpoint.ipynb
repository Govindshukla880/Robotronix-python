{
 "cells": [
  {
   "cell_type": "markdown",
   "id": "a0637b9b-ae83-4f26-afcb-ea84f1c4d4ab",
   "metadata": {
    "editable": true,
    "slideshow": {
     "slide_type": ""
    },
    "tags": []
   },
   "source": [
    "\n",
    "                            #================= 01/10/2024 ===================#\n",
    "\n",
    " LIST\n",
    "\n",
    "It is a collection of hetrogenius data type which has mutable and indexing."
   ]
  },
  {
   "cell_type": "code",
   "execution_count": 6,
   "id": "1c2d36a1-fe1f-4d42-a934-eaa03c9a0a2c",
   "metadata": {},
   "outputs": [
    {
     "name": "stdout",
     "output_type": "stream",
     "text": [
      "[2, 45, 78, 90]\n",
      "<class 'list'>\n"
     ]
    }
   ],
   "source": [
    "a = [2,45,78,90]\n",
    "print(a)\n",
    "print(type(a))"
   ]
  },
  {
   "cell_type": "code",
   "execution_count": 11,
   "id": "ee478274-1813-47e9-b3da-b61a85dcd1d3",
   "metadata": {},
   "outputs": [
    {
     "name": "stdout",
     "output_type": "stream",
     "text": [
      "<class 'list'>\n"
     ]
    }
   ],
   "source": [
    "b = list(('Dilip','Rohan','Govind',34,28,85.2,True))  # Constructor\n",
    "print(type(b))"
   ]
  },
  {
   "cell_type": "code",
   "execution_count": 7,
   "id": "aac9b1fa-8a75-4db4-953d-b4f0fbd66b36",
   "metadata": {},
   "outputs": [
    {
     "name": "stdout",
     "output_type": "stream",
     "text": [
      "['Govind', 'Rohan', 3, 38, 36.3]\n"
     ]
    }
   ],
   "source": [
    "b = ['Govind', 'Rohan',3,38,36.3]\n",
    "print(b)"
   ]
  },
  {
   "cell_type": "code",
   "execution_count": 9,
   "id": "9f2f7228-3086-4d09-b56b-bf614effd946",
   "metadata": {},
   "outputs": [
    {
     "name": "stdout",
     "output_type": "stream",
     "text": [
      "[(12, 43), ['Ram', 'Shyam'], {'b', 'a'}, {'y': 'Yellow'}]\n",
      "<class 'list'>\n"
     ]
    }
   ],
   "source": [
    "b = [(12,43),['Ram','Shyam'], {'a','b'},{'y':'Yellow'}]\n",
    "print(b)\n",
    "print(type(b))"
   ]
  },
  {
   "cell_type": "code",
   "execution_count": 3,
   "id": "51153e29-0613-46a6-90a9-1ea55e68f281",
   "metadata": {},
   "outputs": [
    {
     "data": {
      "text/plain": [
       "['__add__',\n",
       " '__class__',\n",
       " '__class_getitem__',\n",
       " '__contains__',\n",
       " '__delattr__',\n",
       " '__delitem__',\n",
       " '__dir__',\n",
       " '__doc__',\n",
       " '__eq__',\n",
       " '__format__',\n",
       " '__ge__',\n",
       " '__getattribute__',\n",
       " '__getitem__',\n",
       " '__getstate__',\n",
       " '__gt__',\n",
       " '__hash__',\n",
       " '__iadd__',\n",
       " '__imul__',\n",
       " '__init__',\n",
       " '__init_subclass__',\n",
       " '__iter__',\n",
       " '__le__',\n",
       " '__len__',\n",
       " '__lt__',\n",
       " '__mul__',\n",
       " '__ne__',\n",
       " '__new__',\n",
       " '__reduce__',\n",
       " '__reduce_ex__',\n",
       " '__repr__',\n",
       " '__reversed__',\n",
       " '__rmul__',\n",
       " '__setattr__',\n",
       " '__setitem__',\n",
       " '__sizeof__',\n",
       " '__str__',\n",
       " '__subclasshook__',\n",
       " 'append',\n",
       " 'clear',\n",
       " 'copy',\n",
       " 'count',\n",
       " 'extend',\n",
       " 'index',\n",
       " 'insert',\n",
       " 'pop',\n",
       " 'remove',\n",
       " 'reverse',\n",
       " 'sort']"
      ]
     },
     "execution_count": 3,
     "metadata": {},
     "output_type": "execute_result"
    }
   ],
   "source": [
    "dir(list)"
   ]
  },
  {
   "cell_type": "code",
   "execution_count": 1,
   "id": "2343f2bc-3f76-4056-8e41-d861b954e6d3",
   "metadata": {},
   "outputs": [],
   "source": [
    "def rev(x):\n",
    "    '''This function will return the reverse of input\n",
    "    example >> ABC\n",
    "    output >> CBA'''\n",
    "    x = str(x) # Type conversion any to string\n",
    "    return x[::-1]"
   ]
  },
  {
   "cell_type": "code",
   "execution_count": 3,
   "id": "8441e160-0bd6-4882-b565-0a3f61cf4803",
   "metadata": {},
   "outputs": [
    {
     "name": "stdout",
     "output_type": "stream",
     "text": [
      "This function will return the reverse of input\n",
      "    example >> ABC\n",
      "    output >> CBA\n"
     ]
    }
   ],
   "source": [
    "print(rev.__doc__)"
   ]
  },
  {
   "cell_type": "code",
   "execution_count": 5,
   "id": "5afc4f37-75a2-4d58-bd33-dfc7015d75c7",
   "metadata": {},
   "outputs": [
    {
     "data": {
      "text/plain": [
       "'4321'"
      ]
     },
     "execution_count": 5,
     "metadata": {},
     "output_type": "execute_result"
    }
   ],
   "source": [
    "rev(1234)   # Here 1234 is arrgument."
   ]
  },
  {
   "cell_type": "markdown",
   "id": "a2cf1a6c-c6cf-4403-8738-f9cd4a52fb7c",
   "metadata": {},
   "source": [
    "###### LIST #######\n",
    "# Declaration done before"
   ]
  },
  {
   "cell_type": "markdown",
   "id": "afa103fe-5b5b-4e58-b6f5-22426b8908fa",
   "metadata": {},
   "source": [
    "Properties of list\n",
    "1. Mutable --> can be modified after creation\n",
    "2. Indexed --> We can acess the value by index\n",
    "3. Hetrogenous --> Can store multiple different data types\n",
    "4. Elements are seperated by , "
   ]
  },
  {
   "cell_type": "code",
   "execution_count": 27,
   "id": "f482ef34-8504-40bd-8465-1fb298caab43",
   "metadata": {},
   "outputs": [
    {
     "name": "stdout",
     "output_type": "stream",
     "text": [
      "['apple', 'mango', 'orange', 'pineapple', 'kiwi', 'chiku']\n",
      "<class 'list'>\n"
     ]
    }
   ],
   "source": [
    "# Method 1\n",
    "# by square braces\n",
    "fruits = ['apple','mango', 'orange', 'pineapple', 'kiwi', 'chiku' ]\n",
    "print(fruits)\n",
    "print(type(fruits))"
   ]
  },
  {
   "cell_type": "code",
   "execution_count": 1,
   "id": "b19e0ea6-cf69-411e-959d-4922d712de97",
   "metadata": {},
   "outputs": [
    {
     "name": "stdout",
     "output_type": "stream",
     "text": [
      "['red', 'gree', 'pink', 'yellow', 'white', 'black', 'blue']\n",
      "<class 'list'>\n"
     ]
    }
   ],
   "source": [
    "# Method 2\n",
    "# by list consturctor\n",
    "# by the type conversion of other collection data type\n",
    "color = list(('red', 'gree', 'pink', 'yellow', 'white', 'black', 'blue'))\n",
    "        # Here we have type casted the tuple into list\n",
    "print(color)\n",
    "print(type(color))"
   ]
  },
  {
   "cell_type": "code",
   "execution_count": 3,
   "id": "82b69ca6-d5de-4c76-a654-6127c53e19e3",
   "metadata": {},
   "outputs": [
    {
     "name": "stdout",
     "output_type": "stream",
     "text": [
      "['A', 'B', 'C']\n",
      "<class 'list'>\n"
     ]
    }
   ],
   "source": [
    "str = 'ABC'\n",
    "x = list(str)\n",
    "print(x)\n",
    "print(type(x))"
   ]
  },
  {
   "cell_type": "code",
   "execution_count": 172,
   "id": "a3e574d1-1a9a-47e3-b91f-b376c95ac61a",
   "metadata": {},
   "outputs": [
    {
     "name": "stdout",
     "output_type": "stream",
     "text": [
      "Append object to the end of the list.\n"
     ]
    }
   ],
   "source": [
    "# Append :-\n",
    "\n",
    "print(b.append.__doc__)      # append any string or anything at the end"
   ]
  },
  {
   "cell_type": "code",
   "execution_count": 15,
   "id": "8b204e3d-1e99-4831-a849-6fbb6e2cbd88",
   "metadata": {},
   "outputs": [
    {
     "name": "stdout",
     "output_type": "stream",
     "text": [
      "['Govind', 'Rohan', 'Rujhan', 'Tushar', 'Sourabh']\n"
     ]
    }
   ],
   "source": [
    "li = ['Govind', 'Rohan','Rujhan','Tushar']\n",
    "# Add sourabh\n",
    "li.append('Sourabh')\n",
    "print(li)"
   ]
  },
  {
   "cell_type": "code",
   "execution_count": 11,
   "id": "aaaf1f06-e719-4dbc-b79a-a9194e702ece",
   "metadata": {},
   "outputs": [
    {
     "ename": "TypeError",
     "evalue": "list.append() takes exactly one argument (2 given)",
     "output_type": "error",
     "traceback": [
      "\u001b[1;31m---------------------------------------------------------------------------\u001b[0m",
      "\u001b[1;31mTypeError\u001b[0m                                 Traceback (most recent call last)",
      "Cell \u001b[1;32mIn[11], line 2\u001b[0m\n\u001b[0;32m      1\u001b[0m \u001b[38;5;28mlist\u001b[39m \u001b[38;5;241m=\u001b[39m [\u001b[38;5;124m'\u001b[39m\u001b[38;5;124mGovind\u001b[39m\u001b[38;5;124m'\u001b[39m, \u001b[38;5;124m'\u001b[39m\u001b[38;5;124mRohan\u001b[39m\u001b[38;5;124m'\u001b[39m]\n\u001b[1;32m----> 2\u001b[0m \u001b[38;5;28mlist\u001b[39m\u001b[38;5;241m.\u001b[39mappend(\u001b[38;5;124m'\u001b[39m\u001b[38;5;124mTushar\u001b[39m\u001b[38;5;124m'\u001b[39m,\u001b[38;5;124m'\u001b[39m\u001b[38;5;124msourabh\u001b[39m\u001b[38;5;124m'\u001b[39m)\n",
      "\u001b[1;31mTypeError\u001b[0m: list.append() takes exactly one argument (2 given)"
     ]
    }
   ],
   "source": [
    "list = ['Govind', 'Rohan']\n",
    "list.append('Tushar','sourabh')     # Here Append method takes exactly one argument at a time."
   ]
  },
  {
   "cell_type": "code",
   "execution_count": 17,
   "id": "c77a60a6-957d-4478-90bd-381ad919f039",
   "metadata": {},
   "outputs": [],
   "source": [
    "list = ['Govind', 'Rohan']\n",
    "list.append('Tushar')"
   ]
  },
  {
   "cell_type": "code",
   "execution_count": 25,
   "id": "b2edd431-c4ad-4566-b9b9-a3c269d2ccfd",
   "metadata": {},
   "outputs": [
    {
     "name": "stdout",
     "output_type": "stream",
     "text": [
      "['Govind', 'Rohan', 'Tushar', 'Sourabh']\n"
     ]
    }
   ],
   "source": [
    "list.append('Sourabh')\n",
    "print(list)"
   ]
  },
  {
   "cell_type": "code",
   "execution_count": 170,
   "id": "a559fe1a-9a82-413a-97e5-006c4b5617b1",
   "metadata": {},
   "outputs": [
    {
     "name": "stdout",
     "output_type": "stream",
     "text": [
      "['Govind', 'Lokesh', 'Rohan', 'Tushar', 'Sourabh']\n"
     ]
    }
   ],
   "source": [
    "# Insert :-\n",
    "\n",
    "list = ['Govind', 'Rohan', 'Tushar', 'Sourabh']\n",
    "list.insert(1,'Lokesh')\n",
    "print(list)                                      # Insert at certain index posiition"
   ]
  },
  {
   "cell_type": "code",
   "execution_count": 31,
   "id": "acc3499f-f374-4691-8b04-94e6278ced5f",
   "metadata": {},
   "outputs": [
    {
     "name": "stdout",
     "output_type": "stream",
     "text": [
      "['Govind', 'Rohan', 'Tushar', 'Lokesh', 'Sourabh']\n"
     ]
    }
   ],
   "source": [
    "list = ['Govind', 'Rohan', 'Tushar', 'Sourabh']\n",
    "list.insert(-1,'Lokesh')\n",
    "print(list)             # -1 position se pehle hota hai"
   ]
  },
  {
   "cell_type": "code",
   "execution_count": 33,
   "id": "adb33391-70d0-4919-b95e-7865adec00bf",
   "metadata": {},
   "outputs": [
    {
     "name": "stdout",
     "output_type": "stream",
     "text": [
      "['Govind', 'Arjun', 'Rohan', 'Tushar', 'Sourabh']\n"
     ]
    }
   ],
   "source": [
    "list = ['Govind', 'Rohan', 'Tushar', 'Sourabh']\n",
    "list.insert(-3,'Arjun')\n",
    "print(list) "
   ]
  },
  {
   "cell_type": "code",
   "execution_count": 39,
   "id": "5c27a58a-10e0-45fe-a2ae-8b48d158453e",
   "metadata": {},
   "outputs": [
    {
     "name": "stdout",
     "output_type": "stream",
     "text": [
      "['Hariom', 'Arjun', 'Rujhan', 'Batman', 'leo', 'KGF']\n"
     ]
    }
   ],
   "source": [
    "# Extend :-\n",
    "\n",
    "li1 = ['Hariom','Arjun','Rujhan']\n",
    "li2 = ['Batman','leo','KGF']           # Add both list in one list\n",
    "li1.extend(li2)\n",
    "print(li1)"
   ]
  },
  {
   "cell_type": "code",
   "execution_count": 43,
   "id": "cb2fdc05-8170-4a4c-8286-3b96fcb49437",
   "metadata": {},
   "outputs": [
    {
     "name": "stdout",
     "output_type": "stream",
     "text": [
      "['Batman', 'leo', 'KGF', 'Hariom', 'Arjun', 'Rujhan']\n"
     ]
    }
   ],
   "source": [
    "li1 = ['Hariom','Arjun','Rujhan']\n",
    "li2 = ['Batman','leo','KGF']           # Add both list in one list\n",
    "li2.extend(li1)\n",
    "print(li2)"
   ]
  },
  {
   "cell_type": "code",
   "execution_count": 47,
   "id": "2129e292-1e71-41b2-b0bc-7949c7e64f97",
   "metadata": {},
   "outputs": [
    {
     "name": "stdout",
     "output_type": "stream",
     "text": [
      "['Hariom', 'Batman', 'Arjun', 'Leo', 'Rujhan', 'KGF']\n"
     ]
    }
   ],
   "source": [
    "li1 = ['Hariom','Arjun','Rujhan']\n",
    "li1.insert(1,'Batman')\n",
    "li1.insert(3,'Leo')\n",
    "li1.insert(5,'KGF')\n",
    "print(li1)"
   ]
  },
  {
   "cell_type": "code",
   "execution_count": 49,
   "id": "9d31ccea-e081-41c1-88da-98f6b322e04b",
   "metadata": {},
   "outputs": [
    {
     "data": {
      "text/plain": [
       "['Batman', 'leo', 'KGF', 'Hariom', 'Arjun', 'Rujhan']"
      ]
     },
     "execution_count": 49,
     "metadata": {},
     "output_type": "execute_result"
    }
   ],
   "source": [
    "li2"
   ]
  },
  {
   "cell_type": "code",
   "execution_count": 51,
   "id": "1d0a5509-1fa7-45ea-80c7-7253a0c29456",
   "metadata": {},
   "outputs": [
    {
     "name": "stdout",
     "output_type": "stream",
     "text": [
      "li1 ['Batman', 'leo', 'KGF', 'Hariom', 'Arjun', 'Rujhan']\n",
      "li2 ['Batman', 'leo', 'KGF', 'Hariom', 'Arjun', 'Rujhan']\n"
     ]
    }
   ],
   "source": [
    "li1 = li2\n",
    "print('li1',li1)\n",
    "print('li2',li2)"
   ]
  },
  {
   "cell_type": "code",
   "execution_count": 53,
   "id": "1daca934-f24d-4005-aef1-49825da4e708",
   "metadata": {},
   "outputs": [
    {
     "name": "stdout",
     "output_type": "stream",
     "text": [
      "1834170656320\n",
      "1834170656320\n"
     ]
    }
   ],
   "source": [
    "print(id(li1))\n",
    "print(id(li1))"
   ]
  },
  {
   "cell_type": "code",
   "execution_count": 55,
   "id": "3aa7fc2f-045a-4423-a614-ffd024eb112b",
   "metadata": {},
   "outputs": [],
   "source": [
    "li1.append('Rajkumar')"
   ]
  },
  {
   "cell_type": "code",
   "execution_count": 57,
   "id": "8b0c4e65-2ec0-4c7f-a9dc-a7c665f8be17",
   "metadata": {},
   "outputs": [
    {
     "name": "stdout",
     "output_type": "stream",
     "text": [
      "li2 ['Batman', 'leo', 'KGF', 'Hariom', 'Arjun', 'Rujhan', 'Rajkumar']\n"
     ]
    }
   ],
   "source": [
    "print('li2',li1)"
   ]
  },
  {
   "cell_type": "code",
   "execution_count": 25,
   "id": "f8156145-a065-4815-aff9-bb3baf85f11d",
   "metadata": {},
   "outputs": [
    {
     "name": "stdout",
     "output_type": "stream",
     "text": [
      "2268812310848\n",
      "2268811914304\n"
     ]
    }
   ],
   "source": [
    "# To create a copy you have to use copy method or list constructor\n",
    "\n",
    "li2 = ['Batman', 'leo', 'KGF', 'Hariom', 'Arjun', 'Rujhan', 'Rajkumar']\n",
    "l3 = li2.copy()\n",
    "print(id(l3))\n",
    "print(id(li2))"
   ]
  },
  {
   "cell_type": "code",
   "execution_count": 63,
   "id": "9e78500c-0ce9-4b1e-a509-4364a2e4b7d9",
   "metadata": {},
   "outputs": [
    {
     "name": "stdout",
     "output_type": "stream",
     "text": [
      "l3 ['Jai mata di', 'Batman', 'leo', 'KGF', 'Hariom', 'Arjun', 'Rujhan', 'Rajkumar']\n",
      "li2 ['Batman', 'leo', 'KGF', 'Hariom', 'Arjun', 'Rujhan', 'Rajkumar']\n"
     ]
    }
   ],
   "source": [
    "l3.insert(0,'Jai mata di')\n",
    "print('l3',l3)\n",
    "print('li2',li2)"
   ]
  },
  {
   "cell_type": "code",
   "execution_count": 7,
   "id": "9412fbfa-1aab-4df5-9f68-5e57998de144",
   "metadata": {},
   "outputs": [
    {
     "name": "stdout",
     "output_type": "stream",
     "text": [
      "2011569673728\n",
      "2011569418576\n",
      "l4 = ['Jai Shree Mahakal', 80, 90, 60, 50, 40]\n",
      "li2 = (80, 90, 60, 50, 40)\n"
     ]
    }
   ],
   "source": [
    "# List constructor to create a new copy of list\n",
    "\n",
    "li2 = (80,90,60,50,40)\n",
    "l4 = list((li2))\n",
    "print(id(l4))\n",
    "print(id(li2))\n",
    "l4.insert(0,'Jai Shree Mahakal')\n",
    "print('l4 =',l4)\n",
    "print('li2 =', li2)"
   ]
  },
  {
   "cell_type": "code",
   "execution_count": 168,
   "id": "b0f4f5a2-36de-415e-a0c5-9c05a8c4fcb1",
   "metadata": {},
   "outputs": [
    {
     "name": "stdout",
     "output_type": "stream",
     "text": [
      "2\n",
      "1\n"
     ]
    }
   ],
   "source": [
    "# Count\n",
    "\n",
    "l1 = ['shukla','ram','hero','red','ram','hero','dog','cat']\n",
    "print(l1.count('hero'))\n",
    "print(l1.count('red'))          # Count used to counting the element of string in the list"
   ]
  },
  {
   "cell_type": "code",
   "execution_count": 113,
   "id": "25eea4c4-8111-4a62-863c-5a82a12cbe27",
   "metadata": {},
   "outputs": [
    {
     "name": "stdout",
     "output_type": "stream",
     "text": [
      "1 8\n",
      "2 9\n"
     ]
    }
   ],
   "source": [
    "l2 = [1,2,2,1,2,1,2,1,2,1,1,2,2,1,1,2,2]\n",
    "l_unique = []\n",
    "for i in l2:\n",
    "    if i not in l_unique:\n",
    "        l_unique.append(i)\n",
    "        print(i,l2.count(i))"
   ]
  },
  {
   "cell_type": "code",
   "execution_count": 117,
   "id": "cc669ad0-c654-454d-83ff-08d0d664d263",
   "metadata": {},
   "outputs": [
    {
     "name": "stdout",
     "output_type": "stream",
     "text": [
      "0\n",
      "8\n"
     ]
    }
   ],
   "source": [
    "# Index    ---> Returns the index position of the required element.\n",
    "\n",
    "l2 = [1,2,2,1,2,1,2,1,6,2,1,1,2,2,1,1,2,2]\n",
    "print(l2.index(1))\n",
    "print(l2.index(6))"
   ]
  },
  {
   "cell_type": "code",
   "execution_count": 121,
   "id": "6433de6e-0c98-4bfe-903b-42b0c53a1e1c",
   "metadata": {},
   "outputs": [
    {
     "data": {
      "text/plain": [
       "False"
      ]
     },
     "execution_count": 121,
     "metadata": {},
     "output_type": "execute_result"
    }
   ],
   "source": [
    "10 in l2"
   ]
  },
  {
   "cell_type": "code",
   "execution_count": 123,
   "id": "38f66123-2667-4783-b7b6-937a1989f119",
   "metadata": {},
   "outputs": [
    {
     "data": {
      "text/plain": [
       "True"
      ]
     },
     "execution_count": 123,
     "metadata": {},
     "output_type": "execute_result"
    }
   ],
   "source": [
    "6 in l2"
   ]
  },
  {
   "cell_type": "code",
   "execution_count": 125,
   "id": "b28b9742-fed3-406e-b376-50e841f02420",
   "metadata": {},
   "outputs": [
    {
     "ename": "ValueError",
     "evalue": "3 is not in list",
     "output_type": "error",
     "traceback": [
      "\u001b[1;31m---------------------------------------------------------------------------\u001b[0m",
      "\u001b[1;31mValueError\u001b[0m                                Traceback (most recent call last)",
      "Cell \u001b[1;32mIn[125], line 1\u001b[0m\n\u001b[1;32m----> 1\u001b[0m l2\u001b[38;5;241m.\u001b[39mindex(\u001b[38;5;241m3\u001b[39m)\n",
      "\u001b[1;31mValueError\u001b[0m: 3 is not in list"
     ]
    }
   ],
   "source": [
    "l2.index(3)"
   ]
  },
  {
   "cell_type": "code",
   "execution_count": 147,
   "id": "790f333b-eef4-4e9d-b743-64ef9be92f98",
   "metadata": {},
   "outputs": [
    {
     "name": "stdout",
     "output_type": "stream",
     "text": [
      "['Abhijeet', 'BAbita', 'Babita', 'Zara', 'aman', 'faltu', 'komal', 'sweety']\n"
     ]
    }
   ],
   "source": [
    "# sort()  ----> \tSorts the list according to ASCII value.\n",
    "\n",
    "p = ['sweety','Zara','aman','Abhijeet','Babita','BAbita','komal','faltu']\n",
    "p.sort()\n",
    "print(p)"
   ]
  },
  {
   "cell_type": "code",
   "execution_count": 9,
   "id": "7c0b3e6f-c74c-4901-a376-949ea214a7f7",
   "metadata": {},
   "outputs": [
    {
     "name": "stdout",
     "output_type": "stream",
     "text": [
      "[9, 8, 8, 5, 4, 4, 4, 3, 1, 1, 1, 0]\n"
     ]
    }
   ],
   "source": [
    "n = [0,3,1,5,1,4,8,4,8,4,1,9]\n",
    "n.sort(reverse =  True)\n",
    "print(n)                   # by default reverse false hota hai"
   ]
  },
  {
   "cell_type": "code",
   "execution_count": 162,
   "id": "45ebb0ab-ae37-44f8-855a-964d2b66da2a",
   "metadata": {},
   "outputs": [
    {
     "name": "stdout",
     "output_type": "stream",
     "text": [
      "['Zara', 'aman', 'komal', 'faltu', 'sweety', 'Babita', 'BAbita', 'Abhijeet']\n"
     ]
    }
   ],
   "source": [
    "p = ['sweety','Zara','aman','Abhijeet','Babita','BAbita','komal','faltu']\n",
    "p.sort(key = len)\n",
    "print(p)"
   ]
  },
  {
   "cell_type": "code",
   "execution_count": 178,
   "id": "5af0fdde-ccbb-4798-89fd-9d1a26f7ed57",
   "metadata": {},
   "outputs": [
    {
     "name": "stdout",
     "output_type": "stream",
     "text": [
      "1834180864192\n",
      "['Abhijeet', 'sweety', 'Babita', 'BAbita', 'komal', 'faltu', 'Zara', 'aman']\n",
      "1834180864192\n"
     ]
    }
   ],
   "source": [
    "p = ['sweety','Zara','aman','Abhijeet','Babita','BAbita','komal','faltu']\n",
    "print(id(p))\n",
    "p.sort(key = len ,reverse = True)\n",
    "print(p)\n",
    "print(id(p))"
   ]
  },
  {
   "cell_type": "code",
   "execution_count": 182,
   "id": "4bd156db-93ef-49d7-bcc5-0932ea7751d4",
   "metadata": {},
   "outputs": [
    {
     "name": "stdout",
     "output_type": "stream",
     "text": [
      "['sweety', 'Zara', 'aman', 'Abhijeet', 'Babita', 'BAbita', 'komal', 'faltu']\n"
     ]
    }
   ],
   "source": [
    "name = ['sweety','Zara','aman','Abhijeet','Babita','BAbita','komal','faltu']\n",
    "print(name)"
   ]
  },
  {
   "cell_type": "code",
   "execution_count": 39,
   "id": "aef4168d-e5df-46ed-a072-1415e36de1ce",
   "metadata": {},
   "outputs": [
    {
     "name": "stdout",
     "output_type": "stream",
     "text": [
      "Sorted List ['Abhijeet', 'BAbita', 'Babita', 'Zara', 'aman', 'faltu', 'komal', 'sweety']\n",
      "\n",
      "['sweety', 'Zara', 'aman', 'Abhijeet', 'Babita', 'BAbita', 'komal', 'faltu']\n"
     ]
    }
   ],
   "source": [
    "# SORTED\n",
    "\n",
    "name = ['sweety','Zara','aman','Abhijeet','Babita','BAbita','komal','faltu']\n",
    "print('Sorted List',sorted(name))\n",
    "print()\n",
    "print(name)"
   ]
  },
  {
   "cell_type": "code",
   "execution_count": 53,
   "id": "6c3119d9-80c9-45d0-b95c-16f7bd7ee6ea",
   "metadata": {},
   "outputs": [
    {
     "name": "stdout",
     "output_type": "stream",
     "text": [
      "Sorted List ['Abhijeet', 'sweety', 'Babita', 'BAbita', 'komal', 'faltu', 'Zara', 'aman']\n",
      "\n",
      "['sweety', 'Zara', 'aman', 'Abhijeet', 'Babita', 'BAbita', 'komal', 'faltu']\n"
     ]
    }
   ],
   "source": [
    "print('Sorted List',sorted(name, key = len , reverse = True))\n",
    "print()\n",
    "print(name)"
   ]
  },
  {
   "cell_type": "code",
   "execution_count": 188,
   "id": "cd62cb61-344b-4c82-b171-c48fd24e993a",
   "metadata": {},
   "outputs": [
    {
     "name": "stdout",
     "output_type": "stream",
     "text": [
      "[8, 4, 8, 1, 5, 4, 8, 7, 5, 1, 9, 5, 9, 5, 6, 2, 2]\n"
     ]
    }
   ],
   "source": [
    "# REVERSE   --->> This method is used to reverse element from end position of list.\n",
    "\n",
    "a= [2,2,6,5,9,5,9,1,5,7,8,4,5,1,8,4,8]\n",
    "a.reverse()\n",
    "print(a)"
   ]
  },
  {
   "cell_type": "code",
   "execution_count": 190,
   "id": "5d3d6e7d-7e8f-405c-9692-044a8ad0557a",
   "metadata": {},
   "outputs": [
    {
     "name": "stdout",
     "output_type": "stream",
     "text": [
      "[]\n"
     ]
    }
   ],
   "source": [
    "# CLEAR  --->> Clear all element of list but variable not delete.\n",
    "\n",
    "a= [2,2,6,5,9,5,9,1,5,7,8,4,5,1,8,4,8]\n",
    "a.clear()\n",
    "print(a)"
   ]
  },
  {
   "cell_type": "code",
   "execution_count": 196,
   "id": "42429845-314c-4271-ae4e-98495492d61b",
   "metadata": {},
   "outputs": [
    {
     "ename": "NameError",
     "evalue": "name 'a' is not defined",
     "output_type": "error",
     "traceback": [
      "\u001b[1;31m---------------------------------------------------------------------------\u001b[0m",
      "\u001b[1;31mNameError\u001b[0m                                 Traceback (most recent call last)",
      "Cell \u001b[1;32mIn[196], line 4\u001b[0m\n\u001b[0;32m      2\u001b[0m a\u001b[38;5;241m=\u001b[39m [\u001b[38;5;241m2\u001b[39m,\u001b[38;5;241m2\u001b[39m,\u001b[38;5;241m6\u001b[39m,\u001b[38;5;241m5\u001b[39m,\u001b[38;5;241m9\u001b[39m,\u001b[38;5;241m5\u001b[39m,\u001b[38;5;241m9\u001b[39m,\u001b[38;5;241m1\u001b[39m,\u001b[38;5;241m5\u001b[39m,\u001b[38;5;241m7\u001b[39m,\u001b[38;5;241m8\u001b[39m,\u001b[38;5;241m4\u001b[39m,\u001b[38;5;241m5\u001b[39m,\u001b[38;5;241m1\u001b[39m,\u001b[38;5;241m8\u001b[39m,\u001b[38;5;241m4\u001b[39m,\u001b[38;5;241m8\u001b[39m]\n\u001b[0;32m      3\u001b[0m \u001b[38;5;28;01mdel\u001b[39;00m a\n\u001b[1;32m----> 4\u001b[0m \u001b[38;5;28mprint\u001b[39m(a)\n",
      "\u001b[1;31mNameError\u001b[0m: name 'a' is not defined"
     ]
    }
   ],
   "source": [
    "# Delete any list:- It is a function which is used to clear all element of list as well as variable delete. \n",
    "\n",
    "a= [2,2,6,5,9,5,9,1,5,7,8,4,5,1,8,4,8]\n",
    "del a\n",
    "print(a)                         # a names variable not exist."
   ]
  },
  {
   "cell_type": "code",
   "execution_count": 202,
   "id": "d3bb4417-1833-4c73-ab0b-6f7f19f8d849",
   "metadata": {},
   "outputs": [
    {
     "name": "stdout",
     "output_type": "stream",
     "text": [
      "['priya', 'kajal', 'hariom', 'sidharth', 'raj', 'Arjun']\n"
     ]
    }
   ],
   "source": [
    "# POP --> Delete any element from list according to index.\n",
    "\n",
    "a = ['priya','kajal','hariom','sidharth','raj','Arjun','Ayush']\n",
    "a.pop()    # default value is -1\n",
    "print(a)"
   ]
  },
  {
   "cell_type": "code",
   "execution_count": 204,
   "id": "498f4010-fefa-4970-99e9-648472e9683c",
   "metadata": {},
   "outputs": [
    {
     "name": "stdout",
     "output_type": "stream",
     "text": [
      "['priya', 'kajal', 'sidharth', 'raj', 'Arjun', 'Ayush']\n"
     ]
    }
   ],
   "source": [
    "a = ['priya','kajal','hariom','sidharth','raj','Arjun','Ayush']\n",
    "a.pop(2)\n",
    "print(a)"
   ]
  },
  {
   "cell_type": "code",
   "execution_count": 208,
   "id": "f3d0269b-66bd-4129-99d8-d639e74a9c2b",
   "metadata": {},
   "outputs": [
    {
     "ename": "IndexError",
     "evalue": "pop from empty list",
     "output_type": "error",
     "traceback": [
      "\u001b[1;31m---------------------------------------------------------------------------\u001b[0m",
      "\u001b[1;31mIndexError\u001b[0m                                Traceback (most recent call last)",
      "Cell \u001b[1;32mIn[208], line 2\u001b[0m\n\u001b[0;32m      1\u001b[0m a \u001b[38;5;241m=\u001b[39m []\n\u001b[1;32m----> 2\u001b[0m a\u001b[38;5;241m.\u001b[39mpop()\n\u001b[0;32m      3\u001b[0m \u001b[38;5;28mprint\u001b[39m(a)\n",
      "\u001b[1;31mIndexError\u001b[0m: pop from empty list"
     ]
    }
   ],
   "source": [
    "a = []\n",
    "a.pop()\n",
    "print(a)"
   ]
  },
  {
   "cell_type": "code",
   "execution_count": 210,
   "id": "b3d19082-d374-4489-95fa-0d8d4f8f1363",
   "metadata": {},
   "outputs": [
    {
     "ename": "IndexError",
     "evalue": "pop index out of range",
     "output_type": "error",
     "traceback": [
      "\u001b[1;31m---------------------------------------------------------------------------\u001b[0m",
      "\u001b[1;31mIndexError\u001b[0m                                Traceback (most recent call last)",
      "Cell \u001b[1;32mIn[210], line 2\u001b[0m\n\u001b[0;32m      1\u001b[0m a \u001b[38;5;241m=\u001b[39m [\u001b[38;5;124m'\u001b[39m\u001b[38;5;124mpriya\u001b[39m\u001b[38;5;124m'\u001b[39m,\u001b[38;5;124m'\u001b[39m\u001b[38;5;124mkajal\u001b[39m\u001b[38;5;124m'\u001b[39m,\u001b[38;5;124m'\u001b[39m\u001b[38;5;124mhariom\u001b[39m\u001b[38;5;124m'\u001b[39m,\u001b[38;5;124m'\u001b[39m\u001b[38;5;124msidharth\u001b[39m\u001b[38;5;124m'\u001b[39m,\u001b[38;5;124m'\u001b[39m\u001b[38;5;124mraj\u001b[39m\u001b[38;5;124m'\u001b[39m,\u001b[38;5;124m'\u001b[39m\u001b[38;5;124mArjun\u001b[39m\u001b[38;5;124m'\u001b[39m,\u001b[38;5;124m'\u001b[39m\u001b[38;5;124mAyush\u001b[39m\u001b[38;5;124m'\u001b[39m]\n\u001b[1;32m----> 2\u001b[0m a\u001b[38;5;241m.\u001b[39mpop(\u001b[38;5;241m112\u001b[39m)    \u001b[38;5;66;03m# out of list \u001b[39;00m\n\u001b[0;32m      3\u001b[0m \u001b[38;5;28mprint\u001b[39m(a)\n",
      "\u001b[1;31mIndexError\u001b[0m: pop index out of range"
     ]
    }
   ],
   "source": [
    "a = ['priya','kajal','hariom','sidharth','raj','Arjun','Ayush']\n",
    "a.pop(112)    # out of list \n",
    "print(a)"
   ]
  },
  {
   "cell_type": "code",
   "execution_count": 212,
   "id": "beee7df9-852a-454c-877a-0873310631ef",
   "metadata": {},
   "outputs": [
    {
     "name": "stdout",
     "output_type": "stream",
     "text": [
      "['priya', 'kajal', 'hariom', 'raj', 'Arjun', 'Ayush']\n"
     ]
    }
   ],
   "source": [
    "# REMOVE ----> It work on element remove.\n",
    "\n",
    "a = ['priya','kajal','hariom','sidharth','raj','Arjun','Ayush']\n",
    "a.remove('sidharth')\n",
    "print(a)"
   ]
  },
  {
   "cell_type": "code",
   "execution_count": 214,
   "id": "1a5c302f-ea86-44a9-bbbc-9e7585b068d5",
   "metadata": {},
   "outputs": [
    {
     "ename": "ValueError",
     "evalue": "list.remove(x): x not in list",
     "output_type": "error",
     "traceback": [
      "\u001b[1;31m---------------------------------------------------------------------------\u001b[0m",
      "\u001b[1;31mValueError\u001b[0m                                Traceback (most recent call last)",
      "Cell \u001b[1;32mIn[214], line 2\u001b[0m\n\u001b[0;32m      1\u001b[0m a \u001b[38;5;241m=\u001b[39m [\u001b[38;5;124m'\u001b[39m\u001b[38;5;124mpriya\u001b[39m\u001b[38;5;124m'\u001b[39m,\u001b[38;5;124m'\u001b[39m\u001b[38;5;124mkajal\u001b[39m\u001b[38;5;124m'\u001b[39m,\u001b[38;5;124m'\u001b[39m\u001b[38;5;124mhariom\u001b[39m\u001b[38;5;124m'\u001b[39m,\u001b[38;5;124m'\u001b[39m\u001b[38;5;124msidharth\u001b[39m\u001b[38;5;124m'\u001b[39m,\u001b[38;5;124m'\u001b[39m\u001b[38;5;124mraj\u001b[39m\u001b[38;5;124m'\u001b[39m,\u001b[38;5;124m'\u001b[39m\u001b[38;5;124mArjun\u001b[39m\u001b[38;5;124m'\u001b[39m,\u001b[38;5;124m'\u001b[39m\u001b[38;5;124mAyush\u001b[39m\u001b[38;5;124m'\u001b[39m]\n\u001b[1;32m----> 2\u001b[0m a\u001b[38;5;241m.\u001b[39mremove(\u001b[38;5;124m'\u001b[39m\u001b[38;5;124mGovind\u001b[39m\u001b[38;5;124m'\u001b[39m)\n\u001b[0;32m      3\u001b[0m \u001b[38;5;28mprint\u001b[39m(a)\n",
      "\u001b[1;31mValueError\u001b[0m: list.remove(x): x not in list"
     ]
    }
   ],
   "source": [
    "a = ['priya','kajal','hariom','sidharth','raj','Arjun','Ayush']\n",
    "a.remove('Govind')\n",
    "print(a)"
   ]
  },
  {
   "cell_type": "code",
   "execution_count": 216,
   "id": "cdf66d1c-4d6b-4ea0-8eae-67b3b7cc98f0",
   "metadata": {},
   "outputs": [
    {
     "ename": "ValueError",
     "evalue": "list.remove(x): x not in list",
     "output_type": "error",
     "traceback": [
      "\u001b[1;31m---------------------------------------------------------------------------\u001b[0m",
      "\u001b[1;31mValueError\u001b[0m                                Traceback (most recent call last)",
      "Cell \u001b[1;32mIn[216], line 2\u001b[0m\n\u001b[0;32m      1\u001b[0m a \u001b[38;5;241m=\u001b[39m [\u001b[38;5;124m'\u001b[39m\u001b[38;5;124mpriya\u001b[39m\u001b[38;5;124m'\u001b[39m,\u001b[38;5;124m'\u001b[39m\u001b[38;5;124mkajal\u001b[39m\u001b[38;5;124m'\u001b[39m,\u001b[38;5;124m'\u001b[39m\u001b[38;5;124mhariom\u001b[39m\u001b[38;5;124m'\u001b[39m,\u001b[38;5;124m'\u001b[39m\u001b[38;5;124msidharth\u001b[39m\u001b[38;5;124m'\u001b[39m,\u001b[38;5;124m'\u001b[39m\u001b[38;5;124mraj\u001b[39m\u001b[38;5;124m'\u001b[39m,\u001b[38;5;124m'\u001b[39m\u001b[38;5;124mArjun\u001b[39m\u001b[38;5;124m'\u001b[39m,\u001b[38;5;124m'\u001b[39m\u001b[38;5;124mAyush\u001b[39m\u001b[38;5;124m'\u001b[39m]\n\u001b[1;32m----> 2\u001b[0m a\u001b[38;5;241m.\u001b[39mremove(\u001b[38;5;124m'\u001b[39m\u001b[38;5;124mHariom\u001b[39m\u001b[38;5;124m'\u001b[39m)\n\u001b[0;32m      3\u001b[0m \u001b[38;5;28mprint\u001b[39m(a)\n",
      "\u001b[1;31mValueError\u001b[0m: list.remove(x): x not in list"
     ]
    }
   ],
   "source": [
    "a = ['priya','kajal','hariom','sidharth','raj','Arjun','Ayush']\n",
    "a.remove('Hariom')\n",
    "print(a)"
   ]
  },
  {
   "cell_type": "markdown",
   "id": "52a4f047-20da-4e77-b5f1-3fbe22814317",
   "metadata": {},
   "source": [
    "Q ) TO - DO LIST : -"
   ]
  },
  {
   "cell_type": "code",
   "execution_count": null,
   "id": "04a14639-ec6d-4a64-85cb-75753e29ec8e",
   "metadata": {},
   "outputs": [],
   "source": [
    "while True:\n",
    "    print(''' Please Select appropriate Option :--\n",
    "    Enter 1 for Add a task\n",
    "    Enter 2 for Delete a task\n",
    "    Enter 3 for To all completed Task\n",
    "    Enter 4 For all remaining Task\n",
    "    Enter 5 for Exit for program\n",
    "    ''')                                            # ''' ''' used for multiline string.\n",
    "    choice = int(input('Enter your choice : '))\n",
    "    list = []\n",
    "    if choice == 1:\n",
    "        print('Add a task')\n",
    "    elif choice == 2:\n",
    "        print('Delete a task')\n",
    "    elif choice == 3:\n",
    "        print('Delete a task')\n",
    "    elif choice == 4:\n",
    "        print('Delete a task')\n",
    "    elif choice == 5:\n",
    "        break\n",
    "    else:\n",
    "        print('Enter valid choise option.')"
   ]
  }
 ],
 "metadata": {
  "kernelspec": {
   "display_name": "Python 3 (ipykernel)",
   "language": "python",
   "name": "python3"
  },
  "language_info": {
   "codemirror_mode": {
    "name": "ipython",
    "version": 3
   },
   "file_extension": ".py",
   "mimetype": "text/x-python",
   "name": "python",
   "nbconvert_exporter": "python",
   "pygments_lexer": "ipython3",
   "version": "3.12.4"
  }
 },
 "nbformat": 4,
 "nbformat_minor": 5
}
