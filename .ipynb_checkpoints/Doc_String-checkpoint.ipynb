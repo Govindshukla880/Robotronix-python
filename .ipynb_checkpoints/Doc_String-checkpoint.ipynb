{
 "cells": [
  {
   "cell_type": "markdown",
   "id": "c4f33efe-a985-408b-a48b-16acca8d7009",
   "metadata": {},
   "source": [
    "                                        #================= 28/09/2024 ===================#\n",
    "\n",
    "                                                           DOC_STRING"
   ]
  },
  {
   "cell_type": "code",
   "execution_count": null,
   "id": "af385b81-6229-4f44-879a-e955cfd474d8",
   "metadata": {},
   "outputs": [],
   "source": [
    "str = \"This is a test string is my notebook my pen is good\""
   ]
  },
  {
   "cell_type": "code",
   "execution_count": 9,
   "id": "e090fb74-d177-4432-97e5-df009e615537",
   "metadata": {},
   "outputs": [
    {
     "name": "stdout",
     "output_type": "stream",
     "text": [
      "Return a capitalized version of the string.\n",
      "\n",
      "More specifically, make the first character have upper case and the rest lower\n",
      "case.\n"
     ]
    }
   ],
   "source": [
    "print(str.capitalize.__doc__)"
   ]
  },
  {
   "cell_type": "code",
   "execution_count": 11,
   "id": "836e75f5-1837-450f-a65b-158a2f0d19eb",
   "metadata": {},
   "outputs": [
    {
     "name": "stdout",
     "output_type": "stream",
     "text": [
      "Return a centered string of length width.\n",
      "\n",
      "Padding is done using the specified fill character (default is a space).\n"
     ]
    }
   ],
   "source": [
    "print(str.center.__doc__)"
   ]
  },
  {
   "cell_type": "code",
   "execution_count": 14,
   "id": "3887d472-f2b9-4ffb-875b-7a9704f4c247",
   "metadata": {},
   "outputs": [
    {
     "name": "stdout",
     "output_type": "stream",
     "text": [
      "S.count(sub[, start[, end]]) -> int\n",
      "\n",
      "Return the number of non-overlapping occurrences of substring sub in\n",
      "string S[start:end].  Optional arguments start and end are\n",
      "interpreted as in slice notation.\n"
     ]
    }
   ],
   "source": [
    "print(str.count.__doc__)"
   ]
  },
  {
   "cell_type": "code",
   "execution_count": 16,
   "id": "5daa6828-d622-4692-a646-5253d5d39a61",
   "metadata": {},
   "outputs": [
    {
     "name": "stdout",
     "output_type": "stream",
     "text": [
      "S.find(sub[, start[, end]]) -> int\n",
      "\n",
      "Return the lowest index in S where substring sub is found,\n",
      "such that sub is contained within S[start:end].  Optional\n",
      "arguments start and end are interpreted as in slice notation.\n",
      "\n",
      "Return -1 on failure.\n"
     ]
    }
   ],
   "source": [
    "print(str.find.__doc__)"
   ]
  },
  {
   "cell_type": "code",
   "execution_count": 18,
   "id": "db3b2ad0-c002-46bd-af6f-818cd2c7724b",
   "metadata": {},
   "outputs": [
    {
     "name": "stdout",
     "output_type": "stream",
     "text": [
      "S.format(*args, **kwargs) -> str\n",
      "\n",
      "Return a formatted version of S, using substitutions from args and kwargs.\n",
      "The substitutions are identified by braces ('{' and '}').\n"
     ]
    }
   ],
   "source": [
    "print(str.format.__doc__)"
   ]
  },
  {
   "cell_type": "code",
   "execution_count": 20,
   "id": "c9eae2cc-ad99-4798-84e3-12032278fdd4",
   "metadata": {},
   "outputs": [
    {
     "name": "stdout",
     "output_type": "stream",
     "text": [
      "S.index(sub[, start[, end]]) -> int\n",
      "\n",
      "Return the lowest index in S where substring sub is found,\n",
      "such that sub is contained within S[start:end].  Optional\n",
      "arguments start and end are interpreted as in slice notation.\n",
      "\n",
      "Raises ValueError when the substring is not found.\n"
     ]
    }
   ],
   "source": [
    "print(str.index.__doc__)"
   ]
  },
  {
   "cell_type": "code",
   "execution_count": 22,
   "id": "8c8cd69f-06c8-4d0d-8e95-6575ec143b45",
   "metadata": {},
   "outputs": [
    {
     "name": "stdout",
     "output_type": "stream",
     "text": [
      "Return True if the string is an alpha-numeric string, False otherwise.\n",
      "\n",
      "A string is alpha-numeric if all characters in the string are alpha-numeric and\n",
      "there is at least one character in the string.\n"
     ]
    }
   ],
   "source": [
    "print(str.isalnum.__doc__)"
   ]
  },
  {
   "cell_type": "code",
   "execution_count": 24,
   "id": "1df0a4b4-dda0-49a4-a95c-bb0b3040c781",
   "metadata": {},
   "outputs": [
    {
     "name": "stdout",
     "output_type": "stream",
     "text": [
      "Return True if the string is an alphabetic string, False otherwise.\n",
      "\n",
      "A string is alphabetic if all characters in the string are alphabetic and there\n",
      "is at least one character in the string.\n"
     ]
    }
   ],
   "source": [
    "print(str.isalpha.__doc__)"
   ]
  },
  {
   "cell_type": "code",
   "execution_count": 26,
   "id": "d348c6df-2962-470d-8631-012a9fe8cc01",
   "metadata": {},
   "outputs": [
    {
     "name": "stdout",
     "output_type": "stream",
     "text": [
      "Return True if the string is a digit string, False otherwise.\n",
      "\n",
      "A string is a digit string if all characters in the string are digits and there\n",
      "is at least one character in the string.\n"
     ]
    }
   ],
   "source": [
    "print(str.isdigit.__doc__)"
   ]
  },
  {
   "cell_type": "code",
   "execution_count": 28,
   "id": "670342e6-9f0c-469c-b463-e8991ef34a3c",
   "metadata": {},
   "outputs": [
    {
     "name": "stdout",
     "output_type": "stream",
     "text": [
      "Return True if the string is a lowercase string, False otherwise.\n",
      "\n",
      "A string is lowercase if all cased characters in the string are lowercase and\n",
      "there is at least one cased character in the string.\n"
     ]
    }
   ],
   "source": [
    "print(str.islower.__doc__)"
   ]
  },
  {
   "cell_type": "code",
   "execution_count": 30,
   "id": "5dec78b0-0d1f-4287-802e-0d700175e3e5",
   "metadata": {},
   "outputs": [
    {
     "name": "stdout",
     "output_type": "stream",
     "text": [
      "Return True if the string is a numeric string, False otherwise.\n",
      "\n",
      "A string is numeric if all characters in the string are numeric and there is at\n",
      "least one character in the string.\n"
     ]
    }
   ],
   "source": [
    "print(str.isnumeric.__doc__)"
   ]
  },
  {
   "cell_type": "code",
   "execution_count": 32,
   "id": "2adbbc17-8779-4bef-90c4-6e12e9cb7009",
   "metadata": {},
   "outputs": [
    {
     "name": "stdout",
     "output_type": "stream",
     "text": [
      "Return True if the string is a title-cased string, False otherwise.\n",
      "\n",
      "In a title-cased string, upper- and title-case characters may only\n",
      "follow uncased characters and lowercase characters only cased ones.\n"
     ]
    }
   ],
   "source": [
    "print(str.istitle.__doc__)"
   ]
  },
  {
   "cell_type": "code",
   "execution_count": 34,
   "id": "498be52a-a862-47a6-ae66-e87c24d40e92",
   "metadata": {},
   "outputs": [
    {
     "name": "stdout",
     "output_type": "stream",
     "text": [
      "Return True if the string is an uppercase string, False otherwise.\n",
      "\n",
      "A string is uppercase if all cased characters in the string are uppercase and\n",
      "there is at least one cased character in the string.\n"
     ]
    }
   ],
   "source": [
    "print(str.isupper.__doc__)"
   ]
  },
  {
   "cell_type": "code",
   "execution_count": 36,
   "id": "97bb70c8-295c-4fcf-848d-9126fb9e6d6b",
   "metadata": {},
   "outputs": [
    {
     "name": "stdout",
     "output_type": "stream",
     "text": [
      "Concatenate any number of strings.\n",
      "\n",
      "The string whose method is called is inserted in between each given string.\n",
      "The result is returned as a new string.\n",
      "\n",
      "Example: '.'.join(['ab', 'pq', 'rs']) -> 'ab.pq.rs'\n"
     ]
    }
   ],
   "source": [
    "print(str.join.__doc__)"
   ]
  },
  {
   "cell_type": "code",
   "execution_count": 38,
   "id": "4896b695-84a6-4cf8-ba0a-954cf92e3175",
   "metadata": {},
   "outputs": [
    {
     "name": "stdout",
     "output_type": "stream",
     "text": [
      "Return a copy of the string converted to lowercase.\n"
     ]
    }
   ],
   "source": [
    "print(str.lower.__doc__)"
   ]
  },
  {
   "cell_type": "code",
   "execution_count": 40,
   "id": "4d4c6e2c-ea70-402e-b126-c90de85bb23d",
   "metadata": {},
   "outputs": [
    {
     "name": "stdout",
     "output_type": "stream",
     "text": [
      "Return a translation table usable for str.translate().\n",
      "\n",
      "If there is only one argument, it must be a dictionary mapping Unicode\n",
      "ordinals (integers) or characters to Unicode ordinals, strings or None.\n",
      "Character keys will be then converted to ordinals.\n",
      "If there are two arguments, they must be strings of equal length, and\n",
      "in the resulting dictionary, each character in x will be mapped to the\n",
      "character at the same position in y. If there is a third argument, it\n",
      "must be a string, whose characters will be mapped to None in the result.\n"
     ]
    }
   ],
   "source": [
    "print(str.maketrans.__doc__)"
   ]
  },
  {
   "cell_type": "code",
   "execution_count": 42,
   "id": "93835148-5def-4969-beb9-fc71197b60bc",
   "metadata": {},
   "outputs": [
    {
     "name": "stdout",
     "output_type": "stream",
     "text": [
      "Partition the string into three parts using the given separator.\n",
      "\n",
      "This will search for the separator in the string.  If the separator is found,\n",
      "returns a 3-tuple containing the part before the separator, the separator\n",
      "itself, and the part after it.\n",
      "\n",
      "If the separator is not found, returns a 3-tuple containing the original string\n",
      "and two empty strings.\n"
     ]
    }
   ],
   "source": [
    "print(str.partition.__doc__)"
   ]
  },
  {
   "cell_type": "code",
   "execution_count": 44,
   "id": "337d73d2-7c04-4c90-b0ea-11e0439fc403",
   "metadata": {},
   "outputs": [
    {
     "name": "stdout",
     "output_type": "stream",
     "text": [
      "Return a copy with all occurrences of substring old replaced by new.\n",
      "\n",
      "  count\n",
      "    Maximum number of occurrences to replace.\n",
      "    -1 (the default value) means replace all occurrences.\n",
      "\n",
      "If the optional argument count is given, only the first count occurrences are\n",
      "replaced.\n"
     ]
    }
   ],
   "source": [
    "print(str.replace.__doc__)"
   ]
  },
  {
   "cell_type": "code",
   "execution_count": 46,
   "id": "c1388606-8464-452e-a1b7-ec4b6d4027eb",
   "metadata": {},
   "outputs": [
    {
     "name": "stdout",
     "output_type": "stream",
     "text": [
      "Return a list of the substrings in the string, using sep as the separator string.\n",
      "\n",
      "  sep\n",
      "    The separator used to split the string.\n",
      "\n",
      "    When set to None (the default value), will split on any whitespace\n",
      "    character (including \\n \\r \\t \\f and spaces) and will discard\n",
      "    empty strings from the result.\n",
      "  maxsplit\n",
      "    Maximum number of splits.\n",
      "    -1 (the default value) means no limit.\n",
      "\n",
      "Splitting starts at the front of the string and works to the end.\n",
      "\n",
      "Note, str.split() is mainly useful for data that has been intentionally\n",
      "delimited.  With natural text that includes punctuation, consider using\n",
      "the regular expression module.\n"
     ]
    }
   ],
   "source": [
    "print(str.split.__doc__)"
   ]
  },
  {
   "cell_type": "code",
   "execution_count": 50,
   "id": "e6d031aa-54c9-4594-9fd8-36db52ccb235",
   "metadata": {},
   "outputs": [
    {
     "name": "stdout",
     "output_type": "stream",
     "text": [
      "Return a list of the lines in the string, breaking at line boundaries.\n",
      "\n",
      "Line breaks are not included in the resulting list unless keepends is given and\n",
      "true.\n"
     ]
    }
   ],
   "source": [
    "print(str.splitlines.__doc__)"
   ]
  },
  {
   "cell_type": "code",
   "execution_count": 54,
   "id": "1de0faa5-2f18-4c2f-9ff1-09c1e5f52dd8",
   "metadata": {},
   "outputs": [
    {
     "name": "stdout",
     "output_type": "stream",
     "text": [
      "S.startswith(prefix[, start[, end]]) -> bool\n",
      "\n",
      "Return True if S starts with the specified prefix, False otherwise.\n",
      "With optional start, test S beginning at that position.\n",
      "With optional end, stop comparing S at that position.\n",
      "prefix can also be a tuple of strings to try.\n"
     ]
    }
   ],
   "source": [
    "print(str.startswith.__doc__)"
   ]
  },
  {
   "cell_type": "code",
   "execution_count": 56,
   "id": "dc49ff90-f516-4838-998d-e92f4bb6d197",
   "metadata": {},
   "outputs": [
    {
     "name": "stdout",
     "output_type": "stream",
     "text": [
      "Return a copy of the string with leading and trailing whitespace removed.\n",
      "\n",
      "If chars is given and not None, remove characters in chars instead.\n"
     ]
    }
   ],
   "source": [
    "print(str.strip.__doc__)"
   ]
  },
  {
   "cell_type": "code",
   "execution_count": 58,
   "id": "73a6e0c9-a98c-49d1-81aa-0df1c8e12467",
   "metadata": {},
   "outputs": [
    {
     "name": "stdout",
     "output_type": "stream",
     "text": [
      "Convert uppercase characters to lowercase and lowercase characters to uppercase.\n"
     ]
    }
   ],
   "source": [
    "print(str.swapcase.__doc__)"
   ]
  },
  {
   "cell_type": "code",
   "execution_count": 60,
   "id": "bfa60977-b79d-42da-a266-ee713341de8f",
   "metadata": {},
   "outputs": [
    {
     "name": "stdout",
     "output_type": "stream",
     "text": [
      "Return a version of the string where each word is titlecased.\n",
      "\n",
      "More specifically, words start with uppercased characters and all remaining\n",
      "cased characters have lower case.\n"
     ]
    }
   ],
   "source": [
    "print(str.title.__doc__)"
   ]
  },
  {
   "cell_type": "code",
   "execution_count": 62,
   "id": "86c51892-2f5c-4785-b1d7-062951b5d820",
   "metadata": {},
   "outputs": [
    {
     "name": "stdout",
     "output_type": "stream",
     "text": [
      "Return a copy of the string converted to uppercase.\n"
     ]
    }
   ],
   "source": [
    "print(str.upper.__doc__)"
   ]
  },
  {
   "cell_type": "code",
   "execution_count": 64,
   "id": "e0b627dc-977c-4e0b-85c6-b3d2f7a0c83c",
   "metadata": {},
   "outputs": [
    {
     "name": "stdout",
     "output_type": "stream",
     "text": [
      "Pad a numeric string with zeros on the left, to fill a field of the given width.\n",
      "\n",
      "The string is never truncated.\n"
     ]
    }
   ],
   "source": [
    "print(str.zfill.__doc__)"
   ]
  }
 ],
 "metadata": {
  "kernelspec": {
   "display_name": "Python 3 (ipykernel)",
   "language": "python",
   "name": "python3"
  },
  "language_info": {
   "codemirror_mode": {
    "name": "ipython",
    "version": 3
   },
   "file_extension": ".py",
   "mimetype": "text/x-python",
   "name": "python",
   "nbconvert_exporter": "python",
   "pygments_lexer": "ipython3",
   "version": "3.12.4"
  }
 },
 "nbformat": 4,
 "nbformat_minor": 5
}
