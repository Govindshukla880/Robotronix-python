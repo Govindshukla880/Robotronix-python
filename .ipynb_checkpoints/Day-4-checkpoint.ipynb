{
 "cells": [
  {
   "cell_type": "markdown",
   "id": "c1c84f17-cc4b-4211-a409-1d20d6d3de2f",
   "metadata": {},
   "source": [
    "                                                        #================= 27/09/2024 ===================#\n",
    "                                                        \n",
    "                                                                      # IF - ELSE CONDITION"
   ]
  },
  {
   "cell_type": "code",
   "execution_count": 9,
   "id": "6f25d9a4-dc8f-4072-bf2e-2d91b21e82c4",
   "metadata": {},
   "outputs": [
    {
     "name": "stdin",
     "output_type": "stream",
     "text": [
      "Enter the Time :-  4\n"
     ]
    },
    {
     "name": "stdout",
     "output_type": "stream",
     "text": [
      "Good Morning\n"
     ]
    }
   ],
   "source": [
    "time = int(input(\"Enter the Time :- \"))\n",
    "if time > 12:\n",
    "    print('Good Afternoon')\n",
    "else:\n",
    "    print('Good Morning')"
   ]
  },
  {
   "cell_type": "markdown",
   "id": "3fc30123-511d-48d7-8ab9-4a0b7fa3689c",
   "metadata": {},
   "source": [
    "                                                                        # IF - ELIF CONDITION"
   ]
  },
  {
   "cell_type": "code",
   "execution_count": null,
   "id": "f2c20583-1f1c-4253-ae5c-9c28b96b38fb",
   "metadata": {},
   "outputs": [],
   "source": [
    "# 1. Time to greet :-\n",
    "\n",
    "time = int(input(\"Enter the Time :- \"))\n",
    "if  time > 0 and time <= 12:\n",
    "    print('Good Morning')\n",
    "elif time >= 12 and time < 17:\n",
    "    print('Good Afternoon')\n",
    "elif time >= 17 and time <20:\n",
    "    print('Good Evening')\n",
    "elif time >= 20 and time <24:\n",
    "    print('Good Evening')\n",
    "else:\n",
    "    print('Enter time under 24 hrs.')"
   ]
  },
  {
   "cell_type": "code",
   "execution_count": null,
   "id": "9c757a88-198f-4ac3-9dad-b5e637affc13",
   "metadata": {},
   "outputs": [],
   "source": [
    "# Q ) Get temperature and platelate from user to get details.     ( Using nested if - elif )\n",
    "\n",
    "temp = float(input(\"Enter the temperature in F = \"))\n",
    "platelate = float(input(\"Enter the platelate = \"))\n",
    "if temp <= 98.7:\n",
    "    print('No Maleria symptom found')\n",
    "    if platelate < 1.8:\n",
    "        print('Dengue Found')\n",
    "    else:\n",
    "        print('You are normal')\n",
    "        \n",
    "elif temp <=99 and temp > 98.7:\n",
    "    print('Normal temp')\n",
    "    \n",
    "elif temp > 99 and temp <=102:\n",
    "    if platelate < 1.8:\n",
    "        print('Dengue and Maleria Found')\n",
    "    else:\n",
    "        print('May be maleria')\n",
    "        \n",
    "elif temp > 102 and temp <=105:\n",
    "    if platelate < 1.8:\n",
    "        print('Serious condition get admit in hospital')\n",
    "    else:\n",
    "        print('High fever with maleria')\n",
    "        \n",
    "else:\n",
    "    print('You are Normal')"
   ]
  },
  {
   "cell_type": "code",
   "execution_count": 3,
   "id": "efdf1076-5574-4184-9cec-e23417d03c30",
   "metadata": {},
   "outputs": [
    {
     "name": "stdin",
     "output_type": "stream",
     "text": [
      "Enter the season name =  RAINY\n",
      "Enter the Time =  EVENING\n"
     ]
    },
    {
     "name": "stdout",
     "output_type": "stream",
     "text": [
      "Indoor-Games\n"
     ]
    }
   ],
   "source": [
    "# Q ) Season and Activity Suggestion according to time.\n",
    "#_______________________________\n",
    "# Season --  morning  -- Evening\n",
    "#_______________________________\n",
    "#Summer -- Swimming -- Cricket\n",
    "#Winter -- Cricket --  Badminton\n",
    "#Rainy  -- Football -- Indoor Games\n",
    "\n",
    "Season = input('Enter the season name = ').lower()\n",
    "if Season == 'summer':\n",
    "    Time = input('Enter the Time = ').lower()\n",
    "    if Time == 'morning':\n",
    "        print('Swimming')\n",
    "    else:\n",
    "        print('Cricket')\n",
    "elif Season == 'winter':\n",
    "    Time = input('Enter the Time = ').lower()\n",
    "    if Time == 'morning':\n",
    "        print('Cricket')\n",
    "    else:\n",
    "        \n",
    "        print('badminton')\n",
    "elif Season == 'rainy':\n",
    "    Time = input('Enter the Time = ').lower()\n",
    "    if Time == 'morning':\n",
    "        print('Football')\n",
    "    else:\n",
    "        print('Indoor-Games')\n",
    "else:\n",
    "    print('Invalid Season')"
   ]
  },
  {
   "cell_type": "code",
   "execution_count": null,
   "id": "be7fe296-3815-48d1-b7d5-caa0eaff73f9",
   "metadata": {},
   "outputs": [],
   "source": [
    "# Loan eligibility based on salary and credit score amd emi deduction\n",
    "\n",
    "salary > 20000\n",
    "emi_deduction 20%\n",
    "total_emi > 40%\n",
    "expense of family based on number should not be greater than 60% (4000)\n",
    "850 < credit score > 700 (emi 15%)\n",
    "credit score > (emi 13%)\n",
    "\n",
    "(loan amount + Interst / months) round off  ---->>>> Formula"
   ]
  },
  {
   "cell_type": "code",
   "execution_count": 6,
   "id": "f05d739c-7929-4300-9c9c-5ddf110d55c7",
   "metadata": {},
   "outputs": [
    {
     "name": "stdin",
     "output_type": "stream",
     "text": [
      "Enter your Current Year :- 4th\n",
      "Enter your Previous Year :- 3rd\n",
      "Enter your Category sc\n",
      "Enter your percentage :- 80\n"
     ]
    },
    {
     "name": "stdout",
     "output_type": "stream",
     "text": [
      "You will get scholarship of (20000+20%) = 24000\n"
     ]
    }
   ],
   "source": [
    "# Q ) Distribute scholarship according to category and also hike the amount of scholarship according to percentage.\n",
    "    # SC - 20000  , ST - 30000 , OBC - 10000 , GENERAL(>85) -- 5000  \n",
    "    # Percentage and hike :---\n",
    "    #---------------------------------------------\n",
    "    #(50-65) ---- Normal amount\n",
    "    #(65-75) ---- amount + 10%\n",
    "    #(75-85) ---- amount + 20%\n",
    "    #(85-95) ---- amount + 50%\n",
    "    #(>95)   ---- amount + 100%\n",
    "    #---------------------------------------------\n",
    "current_Year = input('Enter your Current Year :-')\n",
    "Previous_Year = input('Enter your Previous Year :-')\n",
    "category = (input('Enter your Category').lower())\n",
    "percentage = float(input('Enter your percentage :-'))\n",
    "\n",
    "if(category == 'sc'):\n",
    "    if(percentage >65 and percentage <= 75):\n",
    "        print('You will get scholarship of (20000+10%) = 22000')\n",
    "    elif(percentage >75 and percentage <= 85):\n",
    "        print('You will get scholarship of (20000+20%) = 24000')\n",
    "    elif(percentage >85 and percentage <= 95):\n",
    "        print('You will get scholarship of (20000+50%) = 30000')\n",
    "    elif(percentage > 95):\n",
    "        print('You will get scholarship of (20000+100%) = 40000')\n",
    "    else:\n",
    "        print('You will get normal scholarship of (20000) = 20000')\n",
    "elif(category == 'st'):\n",
    "    if(percentage >65 and percentage <= 75):\n",
    "        print('You will get scholarship of (30000+10%) = 33000')\n",
    "    elif(percentage >75 and percentage <= 85):\n",
    "        print('You will get scholarship of (30000+20%) = 36000')\n",
    "    elif(percentage >85 and percentage <= 95):\n",
    "        print('You will get scholarship of (30000+50%) = 45000')\n",
    "    elif(percentage > 95):\n",
    "        print('You will get scholarship of (30000+100%) = 60000')\n",
    "    else:\n",
    "        print('You will get normal scholarship of (30000) = 30000')\n",
    "elif(category == 'obc'):\n",
    "    income = float(input('Enter your family annual income in lakh :-'))\n",
    "    if(income >= 8):\n",
    "        print('You are not eligible to get schlarship due to Non-Creamier.')\n",
    "    else:\n",
    "        if(percentage >65 and percentage <= 75):\n",
    "            print('You will get scholarship of (10000+10%) = 11000')\n",
    "        elif(percentage >75 and percentage <= 85):\n",
    "            print('You will get scholarship of (10000+20%) = 12000')\n",
    "        elif(percentage >85 and percentage <= 95):\n",
    "            print('You will get scholarship of (10000+50%) = 15000')\n",
    "        elif(percentage > 95):\n",
    "            print('You will get scholarship of (10000+100%) = 20000')\n",
    "        else:\n",
    "            print('You will get normal scholarship of (10000) = 10000')\n",
    "else:\n",
    "    if(category == 'general'):\n",
    "        if(percentage >= 80):\n",
    "            print('You will get scholarship of (5000) = 5000')\n",
    "        else:\n",
    "            print('You are not eligible to get scholarship.')"
   ]
  }
 ],
 "metadata": {
  "kernelspec": {
   "display_name": "Python 3 (ipykernel)",
   "language": "python",
   "name": "python3"
  },
  "language_info": {
   "codemirror_mode": {
    "name": "ipython",
    "version": 3
   },
   "file_extension": ".py",
   "mimetype": "text/x-python",
   "name": "python",
   "nbconvert_exporter": "python",
   "pygments_lexer": "ipython3",
   "version": "3.12.4"
  }
 },
 "nbformat": 4,
 "nbformat_minor": 5
}
