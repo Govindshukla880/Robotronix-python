{
 "cells": [
  {
   "cell_type": "markdown",
   "id": "73b85702-ef32-434a-8d19-42ca8da0b76f",
   "metadata": {},
   "source": [
    "                                #================= 24/09/2024 ===================#\n",
    "\n",
    "# -----HOW TO PRINT ANYTHING----#"
   ]
  },
  {
   "cell_type": "code",
   "execution_count": null,
   "id": "be603bf7-63e5-4d51-baaa-91d0e96f5438",
   "metadata": {},
   "outputs": [],
   "source": [
    "names = 'Govind Shukla'"
   ]
  },
  {
   "cell_type": "code",
   "execution_count": 8,
   "id": "7d53c855-df66-40d8-aa05-6aec9bc33555",
   "metadata": {},
   "outputs": [
    {
     "name": "stdout",
     "output_type": "stream",
     "text": [
      "GOVIND SHUKLA\n",
      "govind shukla\n",
      "Govind shukla\n"
     ]
    }
   ],
   "source": [
    "# There are some method of print function...\n",
    "\n",
    "# 1. In Upper-case----->Convert names in capital letter.\n",
    "print(names.upper())\n",
    "\n",
    "# 2. In Small-case----->Convert names in small letter.\n",
    "print(names.lower())\n",
    "\n",
    "# 3. In Capitalize ---> Convert the first letter of first word into capital letter.\n",
    "print(names.capitalize())"
   ]
  },
  {
   "cell_type": "code",
   "execution_count": 10,
   "id": "fd1e4378-d97a-40d7-9111-916ba305ea6b",
   "metadata": {},
   "outputs": [
    {
     "name": "stdout",
     "output_type": "stream",
     "text": [
      "<class 'str'>\n",
      "<class 'str'>\n"
     ]
    }
   ],
   "source": [
    "## DEFINING THE VARIABLE....\n",
    "#in the the python variable declaration is not neccesary into any data type it automatically convert the input according to there input type\n",
    "\n",
    "st = \"Govind\"\n",
    "st = 'Shukla'\n",
    "print(type(st))\n",
    "print(type(st))"
   ]
  },
  {
   "cell_type": "code",
   "execution_count": 26,
   "id": "1e380f5e-2af5-4d28-94c0-0f8a1d29676e",
   "metadata": {},
   "outputs": [
    {
     "name": "stdout",
     "output_type": "stream",
     "text": [
      "Simran Govind Hariom Tushar Sourabh Ankit\n",
      "Simran|Govind|Hariom\n",
      "Simran Govind Hariom Tushar Sourabh Ankit---Simran Govind Hariom\n",
      "Tushar Sourabh\n",
      "Simran Govind\n"
     ]
    }
   ],
   "source": [
    "#==================================== (sep='' , end='') KEYWORD ================\n",
    "\n",
    "s1 = \"Simran\"\n",
    "s2 = \"Govind\"\n",
    "s3 = \"Hariom\"\n",
    "s4 =\"Tushar\"\n",
    "s5 =\"Sourabh\"\n",
    "s6 =\"Ankit\"\n",
    "print(s1,s2,s3,s4,s5,s6)\n",
    "print(s1,s2,s3,sep=\"|\")  # bydefault the value of sep=\" \" is space where we can seprate the value by any input.\n",
    "print(s1,s2,s3,s4,s5,s6,end=\"---\")# We can`t declare sep & end keyword in between . It throws the position argument error.\n",
    "print(s1,s2,s3,end=\"\\n\")\n",
    "print(s4,s5)\n",
    "print(s1,s2)\n",
    "\n",
    "# sep (Separator):\n",
    "# Usage: Defines the string that separates multiple arguments when using print().\n",
    "# Default: By default, sep is set to a space (' ').\n",
    "# end (End Character):\n",
    "# Usage: Specifies what to print at the end of the output. It can be any string, not just newline characters."
   ]
  },
  {
   "cell_type": "code",
   "execution_count": 44,
   "id": "bbdb8275-ef07-4528-b61f-010412989e49",
   "metadata": {},
   "outputs": [
    {
     "name": "stdout",
     "output_type": "stream",
     "text": [
      "Simran Govind\tSimran # Govind # Hariom\n",
      "Simran ## Ankit\n",
      "Simran #"
     ]
    }
   ],
   "source": [
    "s1 = \"Simran\"\n",
    "s2= \"Govind\"\n",
    "s3 = \"Hariom\"\n",
    "print(s1,s2,end=\"\\t\")\n",
    "print(s1,s2,s3, sep=\" # \")\n",
    "print(s1,s6,sep=\" ## \")\n",
    "print(s1,end=' #')"
   ]
  },
  {
   "cell_type": "code",
   "execution_count": 48,
   "id": "064f169e-15c6-4a40-8204-6a4ddc4d8bfa",
   "metadata": {},
   "outputs": [
    {
     "name": "stdout",
     "output_type": "stream",
     "text": [
      "I am Govind Shukla\n",
      "pursuing the B.tech Degree.\n",
      " Mom says, \"you are good\" \n"
     ]
    }
   ],
   "source": [
    "st1 = '''I am Govind Shukla\n",
    "pursuing the B.tech Degree.'''\n",
    "print(st1)\n",
    "st2 = ' Mom says, \"you are good\" '\n",
    "print(st2)"
   ]
  },
  {
   "cell_type": "code",
   "execution_count": null,
   "id": "cafb2463-fa87-4c7a-aced-448d73d56570",
   "metadata": {},
   "outputs": [],
   "source": [
    "SHOAPNAME ='XYZ CAPITALS'\n",
    "GST12 = 12\n",
    "IGST = 6\n",
    "SGST= 6\n",
    "owenername = 'Rahul jain'\n",
    "accountant_name = 'Dilip Sharma '\n",
    "def CalculateGst():\n",
    "    pass            #In Python, the pass keyword is used as a placeholder for code that you haven't written yet but need to maintain syntactically valid structure.\n",
    "                    #It essentially tells the interpreter to \"do nothing.\"\n",
    "class ClientAddition():\n",
    "    pass"
   ]
  },
  {
   "cell_type": "code",
   "execution_count": null,
   "id": "82404a16-5d9d-4482-b731-9e0eed50d2a9",
   "metadata": {},
   "outputs": [],
   "source": [
    "# 1. Snake Case\n",
    "# Words are all lowercase and separated by underscores (_).\n",
    "# Example: my_variable, student_name\n",
    "\n",
    "# 2. Camel Case\n",
    "# The first word is lowercase, and each subsequent word starts with an uppercase letter, without spaces or underscores.\n",
    "# Example: myVariable, studentName\n",
    "\n",
    "# 3. Pascal Case (or Upper Camel Case)\n",
    "# Similar to Camel Case, but the first word starts with an uppercase letter.\n",
    "# Example: MyVariable, StudentName\n",
    "\n",
    "# 5. Uppercase (or Constant Case)\n",
    "# All letters are uppercase, and words are separated by underscores.\n",
    "# Typically used for constants.\n",
    "# Example: MY_VARIABLE, MAX_SIZE"
   ]
  }
 ],
 "metadata": {
  "kernelspec": {
   "display_name": "Python 3 (ipykernel)",
   "language": "python",
   "name": "python3"
  },
  "language_info": {
   "codemirror_mode": {
    "name": "ipython",
    "version": 3
   },
   "file_extension": ".py",
   "mimetype": "text/x-python",
   "name": "python",
   "nbconvert_exporter": "python",
   "pygments_lexer": "ipython3",
   "version": "3.12.4"
  }
 },
 "nbformat": 4,
 "nbformat_minor": 5
}
