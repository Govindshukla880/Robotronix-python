{
 "cells": [
  {
   "cell_type": "markdown",
   "id": "6f9ddd6f-8533-4f28-b98c-67beab814b3d",
   "metadata": {},
   "source": [
    "                                                            #================= 26/09/2024 ===================#"
   ]
  },
  {
   "cell_type": "code",
   "execution_count": 4,
   "id": "d411843b-f18b-4274-9c45-400c179f3713",
   "metadata": {},
   "outputs": [
    {
     "ename": "ValueError",
     "evalue": "invalid literal for int() with base 10: '34.98'",
     "output_type": "error",
     "traceback": [
      "\u001b[1;31m---------------------------------------------------------------------------\u001b[0m",
      "\u001b[1;31mValueError\u001b[0m                                Traceback (most recent call last)",
      "Cell \u001b[1;32mIn[4], line 2\u001b[0m\n\u001b[0;32m      1\u001b[0m a \u001b[38;5;241m=\u001b[39m \u001b[38;5;124m'\u001b[39m\u001b[38;5;124m34.98\u001b[39m\u001b[38;5;124m'\u001b[39m\n\u001b[1;32m----> 2\u001b[0m b \u001b[38;5;241m=\u001b[39m \u001b[38;5;28mint\u001b[39m(a)\n\u001b[0;32m      3\u001b[0m \u001b[38;5;28mprint\u001b[39m(a)\n",
      "\u001b[1;31mValueError\u001b[0m: invalid literal for int() with base 10: '34.98'"
     ]
    }
   ],
   "source": [
    "a = '34.98'\n",
    "b = int(a)\n",
    "print(a)"
   ]
  },
  {
   "cell_type": "code",
   "execution_count": 10,
   "id": "ee655986-95b7-4a9d-8a3d-0c1caf929dc9",
   "metadata": {},
   "outputs": [
    {
     "ename": "TypeError",
     "evalue": "int() argument must be a string, a bytes-like object or a real number, not 'list'",
     "output_type": "error",
     "traceback": [
      "\u001b[1;31m---------------------------------------------------------------------------\u001b[0m",
      "\u001b[1;31mTypeError\u001b[0m                                 Traceback (most recent call last)",
      "Cell \u001b[1;32mIn[10], line 2\u001b[0m\n\u001b[0;32m      1\u001b[0m a \u001b[38;5;241m=\u001b[39m [\u001b[38;5;241m2\u001b[39m,\u001b[38;5;241m4\u001b[39m,\u001b[38;5;241m6\u001b[39m]\n\u001b[1;32m----> 2\u001b[0m b \u001b[38;5;241m=\u001b[39m \u001b[38;5;28mint\u001b[39m (a)\n\u001b[0;32m      3\u001b[0m \u001b[38;5;28mprint\u001b[39m(a)\n",
      "\u001b[1;31mTypeError\u001b[0m: int() argument must be a string, a bytes-like object or a real number, not 'list'"
     ]
    }
   ],
   "source": [
    "a = [2,4,6]\n",
    "b = int (a)\n",
    "print(a)"
   ]
  },
  {
   "cell_type": "markdown",
   "id": "2770f1d2-c9ba-45a7-9e9e-0d0d9c70baf3",
   "metadata": {},
   "source": [
    "                                                                  ########## OPERATOR ##########\n",
    "\n",
    "# Operator are specific type of symbol that perform some task on oprands."
   ]
  },
  {
   "cell_type": "code",
   "execution_count": 12,
   "id": "92fcc316-fa63-4694-962c-2575cb4d4961",
   "metadata": {},
   "outputs": [
    {
     "name": "stdout",
     "output_type": "stream",
     "text": [
      "7\n"
     ]
    }
   ],
   "source": [
    "# 1. Arithmetic operator\n",
    "# FLOOR DIVISION \n",
    "a = 23//3\n",
    "print(a)"
   ]
  },
  {
   "cell_type": "code",
   "execution_count": 14,
   "id": "190f445d-a9a0-474e-86fa-41bd78c82138",
   "metadata": {},
   "outputs": [
    {
     "name": "stdout",
     "output_type": "stream",
     "text": [
      "7.666666666666667\n"
     ]
    }
   ],
   "source": [
    "# float division\n",
    "a = 23/3\n",
    "print(a)"
   ]
  },
  {
   "cell_type": "code",
   "execution_count": 18,
   "id": "6d2bb8b7-91df-4d6b-a43b-46d118683d1a",
   "metadata": {},
   "outputs": [
    {
     "name": "stdout",
     "output_type": "stream",
     "text": [
      "2\n",
      "1\n"
     ]
    }
   ],
   "source": [
    "# 2. Assignment operator\n",
    "a = 5\n",
    "a %= 3\n",
    "print(a)\n",
    "b = 5\n",
    "b //= 3\n",
    "print(b)"
   ]
  },
  {
   "cell_type": "code",
   "execution_count": 28,
   "id": "e83cf122-b2ad-4dcd-a3c0-3cd1a7a82607",
   "metadata": {},
   "outputs": [
    {
     "data": {
      "text/plain": [
       "109834"
      ]
     },
     "execution_count": 28,
     "metadata": {},
     "output_type": "execute_result"
    }
   ],
   "source": [
    "a = 1098345\n",
    "a = a//10\n",
    "a"
   ]
  },
  {
   "cell_type": "code",
   "execution_count": 32,
   "id": "da73d345-1831-4454-a19e-a92de8017fe0",
   "metadata": {},
   "outputs": [
    {
     "data": {
      "text/plain": [
       "6"
      ]
     },
     "execution_count": 32,
     "metadata": {},
     "output_type": "execute_result"
    }
   ],
   "source": [
    "a = str(a)  ## Type conversion\n",
    "len(a)  #"
   ]
  },
  {
   "cell_type": "code",
   "execution_count": 36,
   "id": "13f97247-2d0c-42ce-8bac-15396d9aaf07",
   "metadata": {},
   "outputs": [
    {
     "name": "stdout",
     "output_type": "stream",
     "text": [
      "Return the number of items in a container.\n"
     ]
    }
   ],
   "source": [
    "print(len.__doc__)   # Mainly it is used for disclaimer."
   ]
  },
  {
   "cell_type": "code",
   "execution_count": 38,
   "id": "d0440faa-14cf-4230-8a27-a0812f448061",
   "metadata": {},
   "outputs": [
    {
     "name": "stdout",
     "output_type": "stream",
     "text": [
      "int([x]) -> integer\n",
      "int(x, base=10) -> integer\n",
      "\n",
      "Convert a number or string to an integer, or return 0 if no arguments\n",
      "are given.  If x is a number, return x.__int__().  For floating point\n",
      "numbers, this truncates towards zero.\n",
      "\n",
      "If x is not a number or if base is given, then x must be a string,\n",
      "bytes, or bytearray instance representing an integer literal in the\n",
      "given base.  The literal can be preceded by '+' or '-' and be surrounded\n",
      "by whitespace.  The base defaults to 10.  Valid bases are 0 and 2-36.\n",
      "Base 0 means to interpret the base from the string as an integer literal.\n",
      ">>> int('0b100', base=0)\n",
      "4\n"
     ]
    }
   ],
   "source": [
    "print(int.__doc__)"
   ]
  },
  {
   "cell_type": "code",
   "execution_count": 40,
   "id": "576c2347-0f69-4c35-b574-33aefdccafb1",
   "metadata": {},
   "outputs": [
    {
     "data": {
      "text/plain": [
       "0"
      ]
     },
     "execution_count": 40,
     "metadata": {},
     "output_type": "execute_result"
    }
   ],
   "source": [
    "b = int()\n",
    "b"
   ]
  },
  {
   "cell_type": "code",
   "execution_count": 42,
   "id": "5405c076-30ed-4ecc-b89c-63f81d8a0fd0",
   "metadata": {},
   "outputs": [
    {
     "name": "stdout",
     "output_type": "stream",
     "text": [
      "zip(*iterables, strict=False) --> Yield tuples until an input is exhausted.\n",
      "\n",
      "   >>> list(zip('abcdefg', range(3), range(4)))\n",
      "   [('a', 0, 0), ('b', 1, 1), ('c', 2, 2)]\n",
      "\n",
      "The zip object yields n-length tuples, where n is the number of iterables\n",
      "passed as positional arguments to zip().  The i-th element in every tuple\n",
      "comes from the i-th iterable argument to zip().  This continues until the\n",
      "shortest argument is exhausted.\n",
      "\n",
      "If strict is true and one of the arguments is exhausted before the others,\n",
      "raise a ValueError.\n"
     ]
    }
   ],
   "source": [
    "print(zip.__doc__)"
   ]
  },
  {
   "cell_type": "code",
   "execution_count": 46,
   "id": "12c8e58c-0062-4333-9563-62b6e8bed59b",
   "metadata": {},
   "outputs": [
    {
     "name": "stdout",
     "output_type": "stream",
     "text": [
      "True\n",
      "True\n"
     ]
    }
   ],
   "source": [
    "# 3. Relational Operators-----> (<,>,==,>=,<=,!=)\n",
    "a = 23<29\n",
    "print(a)\n",
    "a = 34<36\n",
    "print(a)"
   ]
  },
  {
   "cell_type": "code",
   "execution_count": 52,
   "id": "a02d5f92-6468-45bb-8dd1-d136d8654762",
   "metadata": {},
   "outputs": [
    {
     "name": "stdout",
     "output_type": "stream",
     "text": [
      "True\n",
      "False\n"
     ]
    }
   ],
   "source": [
    "a = (25>=23)\n",
    "print(a)\n",
    "a = 25!=25\n",
    "print(a)"
   ]
  },
  {
   "cell_type": "code",
   "execution_count": 54,
   "id": "5e2014b9-06b8-4343-91f0-6aafbdc30996",
   "metadata": {},
   "outputs": [
    {
     "data": {
      "text/plain": [
       "False"
      ]
     },
     "execution_count": 54,
     "metadata": {},
     "output_type": "execute_result"
    }
   ],
   "source": [
    "a = not(25)  # 25 true value hai so not lagane ke baad wo false ho gya .\n",
    "a"
   ]
  },
  {
   "cell_type": "code",
   "execution_count": 56,
   "id": "dc788cf8-b2ce-4582-bdfe-fcf111a5a6de",
   "metadata": {},
   "outputs": [
    {
     "data": {
      "text/plain": [
       "45"
      ]
     },
     "execution_count": 56,
     "metadata": {},
     "output_type": "execute_result"
    }
   ],
   "source": [
    "# 4. Logical Operator   ---> And , Not , Or\n",
    "23 and 45 "
   ]
  },
  {
   "cell_type": "code",
   "execution_count": 58,
   "id": "406379ca-9248-4f74-9a4e-28475f34164e",
   "metadata": {},
   "outputs": [
    {
     "data": {
      "text/plain": [
       "0"
      ]
     },
     "execution_count": 58,
     "metadata": {},
     "output_type": "execute_result"
    }
   ],
   "source": [
    "23 and 0 and 45"
   ]
  },
  {
   "cell_type": "code",
   "execution_count": 60,
   "id": "690823d0-84bb-4553-9f4c-6206ff44c940",
   "metadata": {},
   "outputs": [
    {
     "data": {
      "text/plain": [
       "23"
      ]
     },
     "execution_count": 60,
     "metadata": {},
     "output_type": "execute_result"
    }
   ],
   "source": [
    "23 or 45"
   ]
  },
  {
   "cell_type": "code",
   "execution_count": 62,
   "id": "a5a2a7da-4969-4631-a5fa-d11a652488df",
   "metadata": {},
   "outputs": [
    {
     "data": {
      "text/plain": [
       "23"
      ]
     },
     "execution_count": 62,
     "metadata": {},
     "output_type": "execute_result"
    }
   ],
   "source": [
    "23 or 0"
   ]
  },
  {
   "cell_type": "code",
   "execution_count": 68,
   "id": "663d3b52-756f-40e6-9b65-4c58a491d3a5",
   "metadata": {},
   "outputs": [
    {
     "data": {
      "text/plain": [
       "True"
      ]
     },
     "execution_count": 68,
     "metadata": {},
     "output_type": "execute_result"
    }
   ],
   "source": [
    "a = 23>20 and 23<40\n",
    "a"
   ]
  },
  {
   "cell_type": "code",
   "execution_count": 70,
   "id": "bd004918-691c-43f8-b9c3-8f392b25bd33",
   "metadata": {},
   "outputs": [
    {
     "data": {
      "text/plain": [
       "False"
      ]
     },
     "execution_count": 70,
     "metadata": {},
     "output_type": "execute_result"
    }
   ],
   "source": [
    "a = 23<20 and 23<40\n",
    "a"
   ]
  },
  {
   "cell_type": "code",
   "execution_count": 72,
   "id": "02480144-fe4b-4bf8-a059-fbd04b4f44f1",
   "metadata": {},
   "outputs": [
    {
     "data": {
      "text/plain": [
       "True"
      ]
     },
     "execution_count": 72,
     "metadata": {},
     "output_type": "execute_result"
    }
   ],
   "source": [
    "a = True and True or False\n",
    "a"
   ]
  },
  {
   "cell_type": "code",
   "execution_count": 74,
   "id": "4b27c0b1-968c-44fe-8f88-af5245d8ee15",
   "metadata": {},
   "outputs": [
    {
     "data": {
      "text/plain": [
       "True"
      ]
     },
     "execution_count": 74,
     "metadata": {},
     "output_type": "execute_result"
    }
   ],
   "source": [
    "a = True or True and False\n",
    "a"
   ]
  },
  {
   "cell_type": "code",
   "execution_count": 82,
   "id": "eb28ae21-cbd7-4198-ae61-a5a9a629d7f3",
   "metadata": {},
   "outputs": [
    {
     "data": {
      "text/plain": [
       "True"
      ]
     },
     "execution_count": 82,
     "metadata": {},
     "output_type": "execute_result"
    }
   ],
   "source": [
    "b = 10\n",
    "a = 2 < 3 and 5 < b  or 100 > 40\n",
    "a"
   ]
  },
  {
   "cell_type": "code",
   "execution_count": 84,
   "id": "5f45d345-b0c4-422a-b415-fe1a1ff471a6",
   "metadata": {},
   "outputs": [
    {
     "data": {
      "text/plain": [
       "True"
      ]
     },
     "execution_count": 84,
     "metadata": {},
     "output_type": "execute_result"
    }
   ],
   "source": [
    "# 5. Identity Operator ---->> is\n",
    "a = 33\n",
    "b = 37\n",
    "c = a < b\n",
    "c"
   ]
  },
  {
   "cell_type": "code",
   "execution_count": 88,
   "id": "c4bbacd1-438b-4fc2-9e3c-0a2fb4e1a02b",
   "metadata": {},
   "outputs": [
    {
     "name": "stdout",
     "output_type": "stream",
     "text": [
      "True\n",
      "True\n",
      "140705915157944\n",
      "140705915157944\n"
     ]
    }
   ],
   "source": [
    "a = 33\n",
    "b = 33\n",
    "c = a == b\n",
    "print (c)\n",
    "d = a is b    # it return true if object refer to sane reference object.\n",
    "print (d)\n",
    "print (id (a))\n",
    "print (id (b))"
   ]
  },
  {
   "cell_type": "code",
   "execution_count": 90,
   "id": "5812072c-ccd0-41cc-8675-2173b0bd1d62",
   "metadata": {},
   "outputs": [
    {
     "name": "stdout",
     "output_type": "stream",
     "text": [
      "True\n",
      "False\n",
      "140705915157944\n",
      "2423634799216\n"
     ]
    }
   ],
   "source": [
    "a = 33\n",
    "b = 33.0\n",
    "c = a == b\n",
    "print (c)\n",
    "d = a is b \n",
    "print (d)\n",
    "print (id (a))\n",
    "print (id (b))"
   ]
  },
  {
   "cell_type": "code",
   "execution_count": 92,
   "id": "2aa07cfc-223e-4494-86c4-52cf650a48ec",
   "metadata": {},
   "outputs": [
    {
     "name": "stdout",
     "output_type": "stream",
     "text": [
      "True\n",
      "False\n",
      "2423653730432\n",
      "2423653733056\n"
     ]
    }
   ],
   "source": [
    "a = [12,34]\n",
    "b = [12,34]\n",
    "c = a == b\n",
    "print (c)\n",
    "d = a is b \n",
    "print (d)\n",
    "print (id (a))\n",
    "print (id (b))"
   ]
  },
  {
   "cell_type": "code",
   "execution_count": 94,
   "id": "9e9e438f-ce9e-4808-89c4-2c4ab222cdd7",
   "metadata": {},
   "outputs": [
    {
     "name": "stdout",
     "output_type": "stream",
     "text": [
      "True\n"
     ]
    }
   ],
   "source": [
    "# 6 . Membership operator ---> in , not in\n",
    "a = 'I am reading book of python programming'\n",
    "b = 'am' in a \n",
    "print(b)"
   ]
  },
  {
   "cell_type": "code",
   "execution_count": 98,
   "id": "25dabc67-49b4-42d1-92e5-9ebf8560a0fb",
   "metadata": {},
   "outputs": [
    {
     "name": "stdout",
     "output_type": "stream",
     "text": [
      "True\n"
     ]
    }
   ],
   "source": [
    "c = [23,45,5,7,8,9,0]\n",
    "a = 23 in c\n",
    "print (a)"
   ]
  },
  {
   "cell_type": "code",
   "execution_count": 102,
   "id": "40d8ad29-095b-445b-b9d5-486516016810",
   "metadata": {},
   "outputs": [
    {
     "name": "stdout",
     "output_type": "stream",
     "text": [
      "False\n"
     ]
    }
   ],
   "source": [
    "c = ['23',45,5,7,8,9,0]\n",
    "a = 23 in c\n",
    "print (a)"
   ]
  },
  {
   "cell_type": "code",
   "execution_count": 104,
   "id": "61af746d-622c-44b0-81e0-914cd310b6db",
   "metadata": {},
   "outputs": [
    {
     "name": "stdout",
     "output_type": "stream",
     "text": [
      "True\n"
     ]
    }
   ],
   "source": [
    "c = ['Govind',45,5,7,8,9,0]\n",
    "a = 'Govind' in c\n",
    "print (a)"
   ]
  },
  {
   "cell_type": "code",
   "execution_count": 106,
   "id": "80289beb-657a-44f0-8b76-171392a63f26",
   "metadata": {},
   "outputs": [
    {
     "name": "stdout",
     "output_type": "stream",
     "text": [
      "False\n"
     ]
    }
   ],
   "source": [
    "c = ['Govind',45,5,7,8,9,0]\n",
    "a = not 'Govind' in c\n",
    "print (a)"
   ]
  },
  {
   "cell_type": "code",
   "execution_count": null,
   "id": "b7a8a364-465e-4646-8d19-50f2d71ef461",
   "metadata": {},
   "outputs": [],
   "source": [
    "                                                                            # String and Method"
   ]
  },
  {
   "cell_type": "code",
   "execution_count": 110,
   "id": "96113650-5c3d-4d6b-b7a1-9e57f6ba30fe",
   "metadata": {},
   "outputs": [
    {
     "name": "stdout",
     "output_type": "stream",
     "text": [
      "Test string\n",
      "Test string 2\n",
      " This is \n",
      "string \n",
      "of trile quotes\n",
      " another \n",
      "triple quotes\n"
     ]
    }
   ],
   "source": [
    "# Way to declare a method\n",
    "a = 'Test string'\n",
    "A = 'Test string 2'\n",
    "b = ''' This is \n",
    "string \n",
    "of trile quotes'''\n",
    "c =\"\"\" another \n",
    "triple quotes\"\"\"\n",
    "print(a)\n",
    "print(A)\n",
    "print(b)\n",
    "print(c)"
   ]
  },
  {
   "cell_type": "code",
   "execution_count": 112,
   "id": "6d62f7e3-0e4a-4847-91d9-54a37a6f0793",
   "metadata": {},
   "outputs": [
    {
     "name": "stdout",
     "output_type": "stream",
     "text": [
      "this isnew linetextof string\n"
     ]
    },
    {
     "data": {
      "text/plain": [
       "'this isnew linetextof string'"
      ]
     },
     "execution_count": 112,
     "metadata": {},
     "output_type": "execute_result"
    }
   ],
   "source": [
    "e = 'this is\\\n",
    "new line\\\n",
    "text\\\n",
    "of string'\n",
    "print(e)\n",
    "e"
   ]
  },
  {
   "cell_type": "code",
   "execution_count": null,
   "id": "ab9f0778-19a3-4d37-b435-320051064e31",
   "metadata": {},
   "outputs": [],
   "source": [
    "# Escape sequence Character\n",
    "#\\n\n",
    "#\\t\n",
    "#\\b\n",
    "#\\"
   ]
  },
  {
   "cell_type": "code",
   "execution_count": 116,
   "id": "02297c1c-b6a3-46f2-80d9-45fbb9d1b39f",
   "metadata": {},
   "outputs": [
    {
     "name": "stdout",
     "output_type": "stream",
     "text": [
      "This is \n",
      "test string\n"
     ]
    },
    {
     "data": {
      "text/plain": [
       "'This is \\ntest string'"
      ]
     },
     "execution_count": 116,
     "metadata": {},
     "output_type": "execute_result"
    }
   ],
   "source": [
    "a = 'This is \\ntest string'  #for next line\n",
    "print (a)\n",
    "a"
   ]
  },
  {
   "cell_type": "code",
   "execution_count": 118,
   "id": "ca0f4bcb-d544-48b7-8900-516383c4c6d9",
   "metadata": {},
   "outputs": [
    {
     "name": "stdout",
     "output_type": "stream",
     "text": [
      "This is \ttest string\n"
     ]
    },
    {
     "data": {
      "text/plain": [
       "'This is \\ttest string'"
      ]
     },
     "execution_count": 118,
     "metadata": {},
     "output_type": "execute_result"
    }
   ],
   "source": [
    "a = 'This is \\ttest string' # for tab space\n",
    "print (a)\n",
    "a"
   ]
  },
  {
   "cell_type": "code",
   "execution_count": 120,
   "id": "0427ff94-af63-4844-ba7c-51a7ec9db57c",
   "metadata": {},
   "outputs": [
    {
     "name": "stdout",
     "output_type": "stream",
     "text": [
      "This is Roha test string\n"
     ]
    },
    {
     "data": {
      "text/plain": [
       "'This is Rohan\\x08 test string'"
      ]
     },
     "execution_count": 120,
     "metadata": {},
     "output_type": "execute_result"
    }
   ],
   "source": [
    "a = 'This is Rohan\\b test string' # for letter escape\n",
    "print (a)\n",
    "a"
   ]
  },
  {
   "cell_type": "code",
   "execution_count": 122,
   "id": "321eaa93-0ce2-4854-bb89-85f4b49f4c04",
   "metadata": {},
   "outputs": [
    {
     "name": "stdout",
     "output_type": "stream",
     "text": [
      "This is Rohan's pen test string\n"
     ]
    },
    {
     "data": {
      "text/plain": [
       "\"This is Rohan's pen test string\""
      ]
     },
     "execution_count": 122,
     "metadata": {},
     "output_type": "execute_result"
    }
   ],
   "source": [
    "a = 'This is Rohan\\'s pen test string' # for apestropy\n",
    "print (a)\n",
    "a"
   ]
  },
  {
   "cell_type": "code",
   "execution_count": 128,
   "id": "74e752e4-d108-471f-9931-2c4f208ea81f",
   "metadata": {},
   "outputs": [
    {
     "name": "stdout",
     "output_type": "stream",
     "text": [
      " Ram is test\n"
     ]
    }
   ],
   "source": [
    "a = 'This is test\\r Ram'     # here \\r is used for positing of last word into starting word (pehle wale ko hata kr)\n",
    "print(a)"
   ]
  },
  {
   "cell_type": "code",
   "execution_count": null,
   "id": "7b510137-7042-4f09-905b-a71fd4b26f0e",
   "metadata": {},
   "outputs": [],
   "source": [
    "                                                                    ####### LOOP ###### \n",
    "# (For , While)"
   ]
  },
  {
   "cell_type": "code",
   "execution_count": null,
   "id": "1a150480-441d-4603-ab05-3f29f1f0c834",
   "metadata": {},
   "outputs": [],
   "source": [
    "### For is for iteration of sequence data or collection data (both same)\n",
    "\n",
    "####-----------For Loop----------\n",
    "\n",
    "# in python like other lang there is no need to initiate \n",
    "# a termination condition and increment or decrement for loop because it run till completion of iteration of iterable if break condition is not specified. \n"
   ]
  },
  {
   "cell_type": "code",
   "execution_count": 126,
   "id": "f8cb463f-119b-4c51-a681-1c454a0a1875",
   "metadata": {},
   "outputs": [
    {
     "name": "stdout",
     "output_type": "stream",
     "text": [
      "['hariom', 'Govind', 'Tushar', 'sidhatrth', 'Arjun']\n"
     ]
    }
   ],
   "source": [
    "l1 = ['hariom','Govind','Tushar','sidhatrth','Arjun','Dilip']\n",
    "print(l1)"
   ]
  },
  {
   "cell_type": "code",
   "execution_count": 149,
   "id": "da013a9e-a875-42b0-a5b3-98991d205eaa",
   "metadata": {},
   "outputs": [
    {
     "name": "stdout",
     "output_type": "stream",
     "text": [
      "hariom\n",
      "Govind\n",
      "Tushar\n",
      "sidharth\n"
     ]
    }
   ],
   "source": [
    "l1 = ['hariom','Govind','Tushar','sidharth','Arjun','Dilip']\n",
    "for n in l1:\n",
    "    if n == 'Arjun':\n",
    "        break\n",
    "    print(n)"
   ]
  },
  {
   "cell_type": "code",
   "execution_count": 151,
   "id": "4c9897ec-bf27-499c-8281-c2c53043fc59",
   "metadata": {},
   "outputs": [
    {
     "name": "stdout",
     "output_type": "stream",
     "text": [
      "hariom\n",
      "Govind\n",
      "Tushar\n",
      "sidharth\n",
      "Dilip\n"
     ]
    }
   ],
   "source": [
    "l1 = ['hariom','Govind','Tushar','sidharth','Arjun','Dilip']\n",
    "for n in l1:\n",
    "    if n == 'Arjun':\n",
    "        continue\n",
    "    print(n)"
   ]
  },
  {
   "cell_type": "code",
   "execution_count": 153,
   "id": "b6730b64-afb4-4e37-ae67-ff2fff5f7621",
   "metadata": {},
   "outputs": [
    {
     "data": {
      "text/plain": [
       "True"
      ]
     },
     "execution_count": 153,
     "metadata": {},
     "output_type": "execute_result"
    }
   ],
   "source": [
    "a = 'Dilip'\n",
    "'i' in a"
   ]
  },
  {
   "cell_type": "code",
   "execution_count": 155,
   "id": "a7c97c29-701e-47b0-8f00-3a3d9769747e",
   "metadata": {},
   "outputs": [
    {
     "name": "stdout",
     "output_type": "stream",
     "text": [
      "<class 'str'>\n",
      "<class 'str'>\n",
      "<class 'str'>\n",
      "<class 'str'>\n",
      "<class 'str'>\n",
      "<class 'str'>\n"
     ]
    }
   ],
   "source": [
    "for i in l1:\n",
    "    print(type(i))"
   ]
  },
  {
   "cell_type": "code",
   "execution_count": 171,
   "id": "f49e01e1-d19d-4167-8b3c-c19802eed035",
   "metadata": {},
   "outputs": [
    {
     "name": "stdout",
     "output_type": "stream",
     "text": [
      "Mohan\n",
      "Ram\n"
     ]
    }
   ],
   "source": [
    "names = ['Govind', 'Mohan', 'Ram' ,'Priya']\n",
    "for i in names:\n",
    "    if 'i' in i:\n",
    "        continue\n",
    "    print(i)"
   ]
  },
  {
   "cell_type": "code",
   "execution_count": 195,
   "id": "b7d97c4a-316b-4381-bd06-7f89a6c42d46",
   "metadata": {},
   "outputs": [
    {
     "name": "stdout",
     "output_type": "stream",
     "text": [
      "Govind\n",
      "Priya\n"
     ]
    }
   ],
   "source": [
    "names = ['Govind', 'Mohan', 'Ram' ,'Priya']\n",
    "for i in names:\n",
    "    if 'i' in i:\n",
    "        print(i)"
   ]
  },
  {
   "cell_type": "code",
   "execution_count": null,
   "id": "7f0404a9-06a3-4789-9069-284222346a28",
   "metadata": {},
   "outputs": [],
   "source": [
    "####### WHILE LOOP #######\n",
    "\n",
    "# just like other lang in python also\n",
    "# for while loop we have initiate a variable , declare  a termination condition an increment or decrement of the initiate variable to get the "
   ]
  },
  {
   "cell_type": "code",
   "execution_count": 1,
   "id": "c5b2e5cd-393b-4c78-8169-a948d7af996e",
   "metadata": {},
   "outputs": [
    {
     "name": "stdout",
     "output_type": "stream",
     "text": [
      "1\n",
      "2\n",
      "3\n",
      "4\n",
      "5\n",
      "6\n"
     ]
    }
   ],
   "source": [
    "n = 1\n",
    "while n <= 10:\n",
    "    if n == 7:\n",
    "        break\n",
    "    print(n)\n",
    "    n+=1"
   ]
  },
  {
   "cell_type": "code",
   "execution_count": 18,
   "id": "5d551a85-0eea-4c84-b4cb-97caea997cd1",
   "metadata": {},
   "outputs": [
    {
     "name": "stdout",
     "output_type": "stream",
     "text": [
      "1\n",
      "2\n",
      "3\n",
      "4\n",
      "5\n",
      "6\n",
      "8\n",
      "9\n",
      "10\n"
     ]
    }
   ],
   "source": [
    "n = 0\n",
    "while n<10:\n",
    "    n+=1\n",
    "    if n == 7:\n",
    "       continue\n",
    "    print(n)\n",
    "   "
   ]
  }
 ],
 "metadata": {
  "kernelspec": {
   "display_name": "Python 3 (ipykernel)",
   "language": "python",
   "name": "python3"
  },
  "language_info": {
   "codemirror_mode": {
    "name": "ipython",
    "version": 3
   },
   "file_extension": ".py",
   "mimetype": "text/x-python",
   "name": "python",
   "nbconvert_exporter": "python",
   "pygments_lexer": "ipython3",
   "version": "3.12.4"
  }
 },
 "nbformat": 4,
 "nbformat_minor": 5
}
