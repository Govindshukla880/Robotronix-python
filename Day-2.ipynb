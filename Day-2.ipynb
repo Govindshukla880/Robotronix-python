{
 "cells": [
  {
   "cell_type": "markdown",
   "id": "e04112f5-1958-4c31-a984-858952d947c7",
   "metadata": {},
   "source": [
    "                                                        #================= 25/09/2024 ===================#"
   ]
  },
  {
   "cell_type": "code",
   "execution_count": 27,
   "id": "4dccaf29-b550-436f-b2f5-7eca2b74fe82",
   "metadata": {},
   "outputs": [
    {
     "name": "stdout",
     "output_type": "stream",
     "text": [
      "Hello world\n"
     ]
    }
   ],
   "source": [
    "print(\"Hello world\")"
   ]
  },
  {
   "cell_type": "code",
   "execution_count": 6,
   "id": "61fffdc5-a873-407f-8c33-9769838d6552",
   "metadata": {},
   "outputs": [
    {
     "name": "stdout",
     "output_type": "stream",
     "text": [
      "<class 'int'>\n"
     ]
    }
   ],
   "source": [
    "a = 885659555555555555555555555555555555\n",
    "print(type(a))"
   ]
  },
  {
   "cell_type": "code",
   "execution_count": 20,
   "id": "99253b38-2dbd-4376-a29e-9faa855e83e2",
   "metadata": {},
   "outputs": [
    {
     "name": "stdin",
     "output_type": "stream",
     "text": [
      "Enter the value 52\n"
     ]
    },
    {
     "name": "stdout",
     "output_type": "stream",
     "text": [
      "<class 'str'>\n"
     ]
    }
   ],
   "source": [
    "r = input(\"Enter the value\")\n",
    "print(type(r))"
   ]
  },
  {
   "cell_type": "code",
   "execution_count": 24,
   "id": "ec4923e1-c2e6-4830-ba21-f13914037ff2",
   "metadata": {},
   "outputs": [
    {
     "name": "stdin",
     "output_type": "stream",
     "text": [
      "Enter 1st number:- 10\n",
      "Enter 2nd number:- 10\n"
     ]
    },
    {
     "name": "stdout",
     "output_type": "stream",
     "text": [
      "Sum of both is :-  20\n"
     ]
    }
   ],
   "source": [
    "n1 = int(input(\"Enter 1st number:-\"))\n",
    "n2 = int(input(\"Enter 2nd number:-\"))\n",
    "sum = n1 + n2\n",
    "print('Sum of both is :- ',sum)"
   ]
  },
  {
   "cell_type": "markdown",
   "id": "de38d24d-91a2-4c0c-aa6f-f52086c93a8b",
   "metadata": {},
   "source": [
    "                                                                        ID FUNCTION"
   ]
  },
  {
   "cell_type": "code",
   "execution_count": 13,
   "id": "777702e6-32a7-4e64-b305-a1a3879399fc",
   "metadata": {},
   "outputs": [
    {
     "name": "stdout",
     "output_type": "stream",
     "text": [
      "140713419429592\n",
      "140713419429592\n",
      "140713419429592\n"
     ]
    }
   ],
   "source": [
    "a = 234\n",
    "b = 234\n",
    "c = 234\n",
    "print(id(a))# ID function tell about memory location.\n",
    "print(id(b))\n",
    "print(id(c))"
   ]
  },
  {
   "cell_type": "code",
   "execution_count": 15,
   "id": "9c626ac6-8b64-4430-8f8e-07e86dd400ce",
   "metadata": {},
   "outputs": [
    {
     "name": "stdout",
     "output_type": "stream",
     "text": [
      "140713418296192\n",
      "140713418296192\n",
      "140713418296192\n"
     ]
    }
   ],
   "source": [
    "b = True\n",
    "c = True \n",
    "d = True\n",
    "print(id(b))\n",
    "print(id(c))\n",
    "print(id(d)) "
   ]
  },
  {
   "cell_type": "code",
   "execution_count": 17,
   "id": "9a6ad1f0-fdc9-44ab-b6eb-b961e4965edb",
   "metadata": {},
   "outputs": [
    {
     "name": "stdout",
     "output_type": "stream",
     "text": [
      "1729066890112\n",
      "1729066889536\n",
      "1729066889792\n"
     ]
    }
   ],
   "source": [
    "b = [2,3]      # List\n",
    "c = [2,3]\n",
    "d = [2,3]\n",
    "print(id(b))\n",
    "print(id(c))\n",
    "print(id(d))"
   ]
  },
  {
   "cell_type": "code",
   "execution_count": 1,
   "id": "5e07d11a-65ca-4961-b2de-1271628385c8",
   "metadata": {},
   "outputs": [
    {
     "name": "stdout",
     "output_type": "stream",
     "text": [
      "1898694959488\n",
      "1898694960608\n",
      "1898694957024\n"
     ]
    }
   ],
   "source": [
    "b = {2,3}      # Tuple\n",
    "c = {2,3}\n",
    "d = {2,3}\n",
    "print(id(b))\n",
    "print(id(c))\n",
    "print(id(d))"
   ]
  },
  {
   "cell_type": "code",
   "execution_count": 2,
   "id": "49c30ae5-ca39-417a-8878-65fa49938de9",
   "metadata": {},
   "outputs": [
    {
     "name": "stdout",
     "output_type": "stream",
     "text": [
      "1632866420992\n",
      "1632875318400\n",
      "1632875319968\n"
     ]
    }
   ],
   "source": [
    "b = frozenset((2,3))     # Frozen set\n",
    "c = frozenset((2,3))\n",
    "d = frozenset((2,3))\n",
    "print(id(b))\n",
    "print(id(c))\n",
    "print(id(d))"
   ]
  },
  {
   "cell_type": "code",
   "execution_count": 4,
   "id": "617e506b-ea37-4154-8a62-e1212f4f403e",
   "metadata": {},
   "outputs": [
    {
     "name": "stdout",
     "output_type": "stream",
     "text": [
      "<class 'tuple'>\n"
     ]
    }
   ],
   "source": [
    "t1 = (2,3,4)            # Tuples\n",
    "print(type(t1))"
   ]
  },
  {
   "cell_type": "code",
   "execution_count": 6,
   "id": "b56bf0ff-75be-4d06-9aa7-22e14a551f2f",
   "metadata": {},
   "outputs": [
    {
     "name": "stdout",
     "output_type": "stream",
     "text": [
      "<class 'int'>\n"
     ]
    }
   ],
   "source": [
    "t1 = (2)\n",
    "print(type(t1))           # For single data , It will be int data type."
   ]
  },
  {
   "cell_type": "code",
   "execution_count": 8,
   "id": "58d50aeb-f444-4a85-8194-74450d4a294c",
   "metadata": {},
   "outputs": [
    {
     "name": "stdout",
     "output_type": "stream",
     "text": [
      "<class 'tuple'>\n"
     ]
    }
   ],
   "source": [
    "t2 = tuple()\n",
    "print(type(t2))         # It is a tuple Constructor type"
   ]
  },
  {
   "cell_type": "code",
   "execution_count": 10,
   "id": "4e3fb46c-3e9c-4c61-becf-b70edccbba61",
   "metadata": {},
   "outputs": [
    {
     "name": "stdout",
     "output_type": "stream",
     "text": [
      "<class 'dict'>\n"
     ]
    }
   ],
   "source": [
    "s1 = {}\n",
    "print(type(s1))            # Without any element It define as a dict"
   ]
  },
  {
   "cell_type": "code",
   "execution_count": 12,
   "id": "15c089be-d7b7-4d14-af90-6fd8f7c8fd37",
   "metadata": {},
   "outputs": [
    {
     "name": "stdout",
     "output_type": "stream",
     "text": [
      "<class 'set'>\n",
      "{1, 2, 3, 4, 5, 6}\n"
     ]
    }
   ],
   "source": [
    "s1 = {1,2,3,4,5,5,5,6,4,1,2,3,6,5}\n",
    "print(type(s1))\n",
    "print(s1)                       # It is a set but repeted element show only one time"
   ]
  },
  {
   "cell_type": "code",
   "execution_count": 14,
   "id": "6ea26615-188f-4abe-ae2e-43f291c17b15",
   "metadata": {},
   "outputs": [
    {
     "name": "stdout",
     "output_type": "stream",
     "text": [
      " RAMAis test\n"
     ]
    }
   ],
   "source": [
    "a = 'This is test\\r RAMA'\n",
    "print(a)       # \\r ---> tell about any word after \\r  will be replace from starting position."
   ]
  },
  {
   "cell_type": "code",
   "execution_count": null,
   "id": "b0e500cb-1936-49f2-b661-718130ef72f5",
   "metadata": {},
   "outputs": [],
   "source": []
  }
 ],
 "metadata": {
  "kernelspec": {
   "display_name": "Python 3 (ipykernel)",
   "language": "python",
   "name": "python3"
  },
  "language_info": {
   "codemirror_mode": {
    "name": "ipython",
    "version": 3
   },
   "file_extension": ".py",
   "mimetype": "text/x-python",
   "name": "python",
   "nbconvert_exporter": "python",
   "pygments_lexer": "ipython3",
   "version": "3.12.4"
  }
 },
 "nbformat": 4,
 "nbformat_minor": 5
}
