{
 "cells": [
  {
   "cell_type": "markdown",
   "id": "8d3237c2-8bd1-4a4a-82cb-90bc8e7f3e27",
   "metadata": {},
   "source": [
    "                                                        #================= 28/09/2024 ===================#\n",
    "\n",
    "                                                                  # For loop and While Loop #\n",
    "                                                        "
   ]
  },
  {
   "cell_type": "code",
   "execution_count": 1,
   "id": "387e5623-09f7-4a2b-8aea-49bd62502e0b",
   "metadata": {},
   "outputs": [
    {
     "name": "stdout",
     "output_type": "stream",
     "text": [
      "1\n",
      "2\n",
      "3\n",
      "4\n",
      "5\n",
      "6\n",
      "This normal print statement\n"
     ]
    }
   ],
   "source": [
    "                                                                #---------For Loop---------#\n",
    "\n",
    "for i in range(1,11):\n",
    "    if (i%7 == 0):\n",
    "        break\n",
    "    print(i)\n",
    "else:\n",
    "    print('Loop is complete')\n",
    "print('This normal print statement')"
   ]
  },
  {
   "cell_type": "code",
   "execution_count": 15,
   "id": "d3820141-d056-4e82-8c6a-7fdec61e03f3",
   "metadata": {},
   "outputs": [
    {
     "name": "stdout",
     "output_type": "stream",
     "text": [
      "1\n",
      "2\n",
      "3\n",
      "4\n",
      "5\n",
      "6\n",
      "7\n",
      "8\n",
      "9\n",
      "10\n",
      "Loop is complete\n",
      "This normal print statement\n"
     ]
    }
   ],
   "source": [
    "for i in range(1,11):   # 11 not included\n",
    "    print(i)\n",
    "else:\n",
    "    print('Loop is complete')\n",
    "print('This normal print statement')"
   ]
  },
  {
   "cell_type": "code",
   "execution_count": 29,
   "id": "1656c392-8da1-4d18-b5f5-1f8ac899b1ea",
   "metadata": {},
   "outputs": [
    {
     "name": "stdout",
     "output_type": "stream",
     "text": [
      "3\n",
      "5\n",
      "7\n",
      "11\n",
      "13\n",
      "17\n",
      "19\n"
     ]
    }
   ],
   "source": [
    "# ----Prime Number---- #\n",
    "\n",
    "for i in range(3,21):\n",
    "    for j in range(2,i):\n",
    "        if ((i%j) == 0):\n",
    "            break\n",
    "    else:\n",
    "        print(i)"
   ]
  },
  {
   "cell_type": "code",
   "execution_count": 43,
   "id": "33a8cb8f-38e5-4aa1-9c21-823677756628",
   "metadata": {},
   "outputs": [
    {
     "name": "stdin",
     "output_type": "stream",
     "text": [
      "Enter the value of n :- 79\n"
     ]
    },
    {
     "name": "stdout",
     "output_type": "stream",
     "text": [
      "Prime number\n"
     ]
    }
   ],
   "source": [
    "# For given input\n",
    "n = int(input('Enter the value of n :-'))\n",
    "for j in range(2,n):\n",
    "    if (n%j == 0):\n",
    "        print('Not a prime number')\n",
    "        break\n",
    "else:\n",
    "    print('Prime number')"
   ]
  },
  {
   "cell_type": "code",
   "execution_count": 45,
   "id": "a6e29bd3-30e6-414b-b347-25d4cc0acb15",
   "metadata": {},
   "outputs": [
    {
     "name": "stdout",
     "output_type": "stream",
     "text": [
      "1\n",
      "2\n",
      "3\n",
      "4\n",
      "This is normal print\n"
     ]
    }
   ],
   "source": [
    "n = 1\n",
    "while n < 11:\n",
    "    if n == 5:\n",
    "        break\n",
    "    print(n)\n",
    "    n+=1\n",
    "else:\n",
    "    print('While loop completed')\n",
    "print('This is normal print')"
   ]
  },
  {
   "cell_type": "code",
   "execution_count": 47,
   "id": "a6ed82f9-6104-4dcd-863e-f49f6c24b910",
   "metadata": {},
   "outputs": [
    {
     "name": "stdout",
     "output_type": "stream",
     "text": [
      "1\n",
      "2\n",
      "3\n",
      "4\n",
      "5\n",
      "6\n",
      "7\n",
      "8\n",
      "9\n",
      "10\n",
      "While loop completed\n",
      "This is normal print\n"
     ]
    }
   ],
   "source": [
    "n = 1\n",
    "while n < 11:\n",
    "    # if n == 5:\n",
    "    #     break\n",
    "    print(n)\n",
    "    n+=1\n",
    "else:\n",
    "    print('While loop completed')\n",
    "print('This is normal print')"
   ]
  },
  {
   "cell_type": "code",
   "execution_count": 49,
   "id": "b80e18ac-67ac-4c8c-a308-6dd53efc1a22",
   "metadata": {},
   "outputs": [
    {
     "name": "stdin",
     "output_type": "stream",
     "text": [
      "Enter a no you want to table:- 2\n"
     ]
    },
    {
     "name": "stdout",
     "output_type": "stream",
     "text": [
      "2 * 1 = 2\n",
      "2 * 2 = 4\n",
      "2 * 3 = 6\n",
      "2 * 4 = 8\n",
      "2 * 5 = 10\n",
      "2 * 6 = 12\n",
      "2 * 7 = 14\n",
      "2 * 8 = 16\n",
      "2 * 9 = 18\n",
      "2 * 10 = 20\n"
     ]
    }
   ],
   "source": [
    "# Wap to print multiplication table of a no n.\n",
    "\n",
    "n = int(input('Enter a no you want to table:-'))\n",
    "i = 1\n",
    "while i<=10:\n",
    "    print(n,'*',i,'=',n*i)\n",
    "    i+=1"
   ]
  },
  {
   "cell_type": "code",
   "execution_count": 51,
   "id": "f2cc2abc-5de7-4a37-af6e-a400e7281b74",
   "metadata": {},
   "outputs": [
    {
     "name": "stdout",
     "output_type": "stream",
     "text": [
      "15 * 1 = 15\n",
      "15 * 2 = 30\n",
      "15 * 3 = 45\n",
      "15 * 4 = 60\n",
      "15 * 5 = 75\n",
      "15 * 6 = 90\n",
      "15 * 7 = 105\n",
      "15 * 8 = 120\n",
      "15 * 9 = 135\n",
      "15 * 10 = 150\n"
     ]
    }
   ],
   "source": [
    "n = 15\n",
    "i = 1\n",
    "while i<=10:\n",
    "    print(n,'*',i,'=',n*i)\n",
    "    i+=1"
   ]
  },
  {
   "cell_type": "code",
   "execution_count": 71,
   "id": "09f8dcc0-a50d-40c9-98ed-bd3ef1112c87",
   "metadata": {},
   "outputs": [
    {
     "name": "stdin",
     "output_type": "stream",
     "text": [
      "Enter a no you want to table:- 3\n"
     ]
    },
    {
     "name": "stdout",
     "output_type": "stream",
     "text": [
      "3 * 5 = 15\n",
      "3 * 9 = 27\n"
     ]
    }
   ],
   "source": [
    "# Table where last digit will be 5 and 7.\n",
    "\n",
    "n = int(input('Enter a no you want to table:-'))\n",
    "i = 1\n",
    "while i<=10:\n",
    "    result = n*i\n",
    "    if ((result%10) == 5 or (result%10) == 7):\n",
    "        print(n,'*',i,'=',n*i)\n",
    "    i+=1"
   ]
  },
  {
   "cell_type": "code",
   "execution_count": 75,
   "id": "c93484a0-2427-412e-9e8c-9c7497053d09",
   "metadata": {},
   "outputs": [
    {
     "name": "stdout",
     "output_type": "stream",
     "text": [
      "Even no =  5\n",
      "Odd no =  5\n"
     ]
    }
   ],
   "source": [
    "eve = 0\n",
    "odd = 0\n",
    "n = 1\n",
    "while n <= 10:\n",
    "    if n%2 == 0:\n",
    "        eve+=1\n",
    "    else:\n",
    "        odd+=1\n",
    "    n+=1\n",
    "print('Even no = ', eve)\n",
    "print('Odd no = ', odd)"
   ]
  },
  {
   "cell_type": "markdown",
   "id": "3d077630-a8d2-4022-8456-c211a1bca6a4",
   "metadata": {},
   "source": [
    "                                                                        #-----STRING-----#\n",
    "String is a sequence of character.\n",
    "String is a collection of character which are having index."
   ]
  },
  {
   "cell_type": "code",
   "execution_count": null,
   "id": "05e59d30-52b9-4348-adc6-df59fb58954e",
   "metadata": {},
   "outputs": [],
   "source": [
    "# DECLRATION OF STRING\n",
    "\n",
    "# Method 1\n",
    "str1 = 'String'\n",
    "# Method 2\n",
    "str2 = \"String\"\n",
    "# Method 3\n",
    "str3 = '''Multiline string'''\n",
    "# Method 4\n",
    "str4 = \"\"\"String\"\"\"\n",
    "# Method 5\n",
    "str5 = 'String1 \\\n",
    "Govind '           #-----> Single line\n",
    "\n",
    "print(str1,str2,str3,str4,str5 , sep=' | ', end = 'Jai mata dii')"
   ]
  },
  {
   "cell_type": "code",
   "execution_count": 101,
   "id": "7d70fd54-98d4-4174-948a-e05701eac43a",
   "metadata": {},
   "outputs": [
    {
     "name": "stdout",
     "output_type": "stream",
     "text": [
      "hello\n"
     ]
    }
   ],
   "source": [
    "# ''' used for multiline comment.\n",
    "'''this             \n",
    "is multiline\n",
    "comment'''\n",
    "a = 'hello'\n",
    "print(a)"
   ]
  },
  {
   "cell_type": "code",
   "execution_count": 105,
   "id": "e2ed1234-a117-411f-84ab-7b23a8cd4e58",
   "metadata": {},
   "outputs": [
    {
     "name": "stdout",
     "output_type": "stream",
     "text": [
      "Govind shukla\n"
     ]
    }
   ],
   "source": [
    "a = 'Govind Shukla'\n",
    "a = a.capitalize()\n",
    "print(a)"
   ]
  },
  {
   "cell_type": "code",
   "execution_count": 108,
   "id": "2a088ede-4946-4373-9402-5bb187cdb869",
   "metadata": {},
   "outputs": [
    {
     "name": "stdout",
     "output_type": "stream",
     "text": [
      "Return a capitalized version of the string.\n",
      "\n",
      "More specifically, make the first character have upper case and the rest lower\n",
      "case.\n"
     ]
    }
   ],
   "source": [
    "print(a.capitalize.__doc__)"
   ]
  },
  {
   "cell_type": "code",
   "execution_count": 110,
   "id": "94447e2e-bd77-480f-a2b8-3252de6ed412",
   "metadata": {},
   "outputs": [
    {
     "name": "stdout",
     "output_type": "stream",
     "text": [
      "Return a centered string of length width.\n",
      "\n",
      "Padding is done using the specified fill character (default is a space).\n"
     ]
    }
   ],
   "source": [
    "print(a.center.__doc__)"
   ]
  },
  {
   "cell_type": "code",
   "execution_count": 124,
   "id": "de269905-b2e9-49bc-99fd-62f95bc1b580",
   "metadata": {},
   "outputs": [
    {
     "name": "stdout",
     "output_type": "stream",
     "text": [
      "Ram\n",
      "      Ram      \n",
      "%%%%%%%      Ram      %%%%%%%%\n",
      "%%%%%%%%%%%%%Ram%%%%%%%%%%%%%%\n"
     ]
    }
   ],
   "source": [
    "a = 'Ram'\n",
    "print(a)\n",
    "a = a.center(15) #  Space-around\n",
    "print(a)\n",
    "a = a.center(30 , '%') #  Space-around\n",
    "print(a)\n",
    "a = 'Ram'\n",
    "print(a.center(30,\"%\"))"
   ]
  },
  {
   "cell_type": "code",
   "execution_count": 128,
   "id": "4df53ad9-70da-4fe9-a79a-264c92c04dab",
   "metadata": {},
   "outputs": [
    {
     "name": "stdout",
     "output_type": "stream",
     "text": [
      "S.count(sub[, start[, end]]) -> int\n",
      "\n",
      "Return the number of non-overlapping occurrences of substring sub in\n",
      "string S[start:end].  Optional arguments start and end are\n",
      "interpreted as in slice notation.\n"
     ]
    }
   ],
   "source": [
    "a = 'This is a test string is my notebook my pen is good'\n",
    "print(a.count.__doc__)"
   ]
  },
  {
   "cell_type": "code",
   "execution_count": 130,
   "id": "e9e194d8-097d-4ebb-b16b-b658133f1ca5",
   "metadata": {},
   "outputs": [
    {
     "data": {
      "text/plain": [
       "2"
      ]
     },
     "execution_count": 130,
     "metadata": {},
     "output_type": "execute_result"
    }
   ],
   "source": [
    "a.count('my')"
   ]
  },
  {
   "cell_type": "code",
   "execution_count": 132,
   "id": "ba087d6f-fb66-4d94-970a-29418a6a931e",
   "metadata": {},
   "outputs": [
    {
     "name": "stdout",
     "output_type": "stream",
     "text": [
      "S.find(sub[, start[, end]]) -> int\n",
      "\n",
      "Return the lowest index in S where substring sub is found,\n",
      "such that sub is contained within S[start:end].  Optional\n",
      "arguments start and end are interpreted as in slice notation.\n",
      "\n",
      "Return -1 on failure.\n"
     ]
    }
   ],
   "source": [
    "print(a.find.__doc__)"
   ]
  },
  {
   "cell_type": "code",
   "execution_count": 134,
   "id": "1c6d1c79-b3b1-4372-aadf-8ee7a381c69d",
   "metadata": {},
   "outputs": [
    {
     "data": {
      "text/plain": [
       "2"
      ]
     },
     "execution_count": 134,
     "metadata": {},
     "output_type": "execute_result"
    }
   ],
   "source": [
    "a.find('is')"
   ]
  },
  {
   "cell_type": "code",
   "execution_count": 138,
   "id": "c0b83749-e082-43f6-b1a5-449ec4bb9a63",
   "metadata": {},
   "outputs": [
    {
     "name": "stdout",
     "output_type": "stream",
     "text": [
      "Index pasition at  0 = T\n",
      "Index pasition at  1 = h\n",
      "Index pasition at  2 = i\n",
      "Index pasition at  3 = s\n",
      "Index pasition at  4 =  \n",
      "Index pasition at  5 = i\n",
      "Index pasition at  6 = s\n",
      "Index pasition at  7 =  \n",
      "Index pasition at  8 = a\n",
      "Index pasition at  9 =  \n",
      "Index pasition at  10 = t\n",
      "Index pasition at  11 = e\n",
      "Index pasition at  12 = s\n",
      "Index pasition at  13 = t\n",
      "Index pasition at  14 =  \n",
      "Index pasition at  15 = s\n",
      "Index pasition at  16 = t\n",
      "Index pasition at  17 = r\n",
      "Index pasition at  18 = i\n",
      "Index pasition at  19 = n\n",
      "Index pasition at  20 = g\n",
      "Index pasition at  21 =  \n",
      "Index pasition at  22 = i\n",
      "Index pasition at  23 = s\n",
      "Index pasition at  24 =  \n",
      "Index pasition at  25 = m\n",
      "Index pasition at  26 = y\n",
      "Index pasition at  27 =  \n",
      "Index pasition at  28 = n\n",
      "Index pasition at  29 = o\n",
      "Index pasition at  30 = t\n",
      "Index pasition at  31 = e\n",
      "Index pasition at  32 = b\n",
      "Index pasition at  33 = o\n",
      "Index pasition at  34 = o\n",
      "Index pasition at  35 = k\n",
      "Index pasition at  36 =  \n",
      "Index pasition at  37 = m\n",
      "Index pasition at  38 = y\n",
      "Index pasition at  39 =  \n",
      "Index pasition at  40 = p\n",
      "Index pasition at  41 = e\n",
      "Index pasition at  42 = n\n",
      "Index pasition at  43 =  \n",
      "Index pasition at  44 = i\n",
      "Index pasition at  45 = s\n",
      "Index pasition at  46 =  \n",
      "Index pasition at  47 = g\n",
      "Index pasition at  48 = o\n",
      "Index pasition at  49 = o\n",
      "Index pasition at  50 = d\n"
     ]
    }
   ],
   "source": [
    "st = 'This is a test string is my notebook my pen is good'\n",
    "n = 0\n",
    "while(n< len(st)):\n",
    "    print('Index pasition at ',n , \"=\" , st[n])\n",
    "    n+=1"
   ]
  },
  {
   "cell_type": "code",
   "execution_count": 148,
   "id": "b1015b8b-46f5-471f-b84c-580cb37f6636",
   "metadata": {},
   "outputs": [
    {
     "data": {
      "text/plain": [
       "15"
      ]
     },
     "execution_count": 148,
     "metadata": {},
     "output_type": "execute_result"
    }
   ],
   "source": [
    "a = 'This is a test string is my notebook my pen is good'\n",
    "a.find('string')"
   ]
  },
  {
   "cell_type": "code",
   "execution_count": 152,
   "id": "85e49918-4844-491c-9edc-c50af19f0047",
   "metadata": {},
   "outputs": [
    {
     "name": "stdout",
     "output_type": "stream",
     "text": [
      "S.index(sub[, start[, end]]) -> int\n",
      "\n",
      "Return the lowest index in S where substring sub is found,\n",
      "such that sub is contained within S[start:end].  Optional\n",
      "arguments start and end are interpreted as in slice notation.\n",
      "\n",
      "Raises ValueError when the substring is not found.\n"
     ]
    }
   ],
   "source": [
    "a = 'This is a test string is my notebook my pen is good'\n",
    "print(a.index.__doc__)"
   ]
  },
  {
   "cell_type": "code",
   "execution_count": 158,
   "id": "7fe00094-72bc-4593-9176-9d168305296c",
   "metadata": {},
   "outputs": [
    {
     "name": "stdout",
     "output_type": "stream",
     "text": [
      "0\n"
     ]
    }
   ],
   "source": [
    "a = 'This is a test string is my notebook my pen is good'\n",
    "# a.index('this')\n",
    "print(a.index('This'))"
   ]
  }
 ],
 "metadata": {
  "kernelspec": {
   "display_name": "Python 3 (ipykernel)",
   "language": "python",
   "name": "python3"
  },
  "language_info": {
   "codemirror_mode": {
    "name": "ipython",
    "version": 3
   },
   "file_extension": ".py",
   "mimetype": "text/x-python",
   "name": "python",
   "nbconvert_exporter": "python",
   "pygments_lexer": "ipython3",
   "version": "3.12.4"
  }
 },
 "nbformat": 4,
 "nbformat_minor": 5
}
